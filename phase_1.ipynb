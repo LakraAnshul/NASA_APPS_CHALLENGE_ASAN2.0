{
 "cells": [
  {
   "cell_type": "code",
   "execution_count": 2,
   "id": "839ed95f",
   "metadata": {},
   "outputs": [
    {
     "name": "stdout",
     "output_type": "stream",
     "text": [
      "Found 738 .tif files\n"
     ]
    },
    {
     "name": "stderr",
     "output_type": "stream",
     "text": [
      "Processing files:   1%|          | 4/738 [00:00<01:09, 10.62it/s]"
     ]
    },
    {
     "name": "stdout",
     "output_type": "stream",
     "text": [
      "⚠️ Skipping HLS.S30.T10SDH.2025088T185021.v2.0.B01.tif — not enough bands.\n",
      "⚠️ Skipping HLS.S30.T10SDH.2025088T185021.v2.0.B02.tif — not enough bands.\n",
      "⚠️ Skipping HLS.S30.T10SDH.2025088T185021.v2.0.B03.tif — not enough bands.\n",
      "⚠️ Skipping HLS.S30.T10SDH.2025088T185021.v2.0.B04.tif — not enough bands.\n",
      "⚠️ Skipping HLS.S30.T10SDH.2025088T185021.v2.0.B05.tif — not enough bands.\n",
      "⚠️ Skipping HLS.S30.T10SDH.2025088T185021.v2.0.B06.tif — not enough bands.\n"
     ]
    },
    {
     "name": "stderr",
     "output_type": "stream",
     "text": [
      "Processing files:   1%|          | 9/738 [00:00<00:47, 15.44it/s]"
     ]
    },
    {
     "name": "stdout",
     "output_type": "stream",
     "text": [
      "⚠️ Skipping HLS.S30.T10SDH.2025088T185021.v2.0.B07.tif — not enough bands.\n",
      "⚠️ Skipping HLS.S30.T10SDH.2025088T185021.v2.0.B08.tif — not enough bands.\n",
      "⚠️ Skipping HLS.S30.T10SDH.2025088T185021.v2.0.B09.tif — not enough bands.\n",
      "⚠️ Skipping HLS.S30.T10SDH.2025088T185021.v2.0.B10.tif — not enough bands.\n"
     ]
    },
    {
     "name": "stderr",
     "output_type": "stream",
     "text": [
      "Processing files:   2%|▏         | 13/738 [00:00<00:51, 14.07it/s]"
     ]
    },
    {
     "name": "stdout",
     "output_type": "stream",
     "text": [
      "⚠️ Skipping HLS.S30.T10SDH.2025088T185021.v2.0.B11.tif — not enough bands.\n",
      "⚠️ Skipping HLS.S30.T10SDH.2025088T185021.v2.0.B12.tif — not enough bands.\n",
      "⚠️ Skipping HLS.S30.T10SDH.2025088T185021.v2.0.B8A.tif — not enough bands.\n"
     ]
    },
    {
     "name": "stderr",
     "output_type": "stream",
     "text": [
      "Processing files:   2%|▏         | 18/738 [00:01<00:41, 17.15it/s]"
     ]
    },
    {
     "name": "stdout",
     "output_type": "stream",
     "text": [
      "⚠️ Skipping HLS.S30.T10SDH.2025088T185021.v2.0.Fmask.tif — not enough bands.\n",
      "⚠️ Skipping HLS.S30.T10SDH.2025088T185021.v2.0.SAA.tif — not enough bands.\n",
      "⚠️ Skipping HLS.S30.T10SDH.2025088T185021.v2.0.SZA.tif — not enough bands.\n",
      "⚠️ Skipping HLS.S30.T10SDH.2025088T185021.v2.0.VAA.tif — not enough bands.\n",
      "⚠️ Skipping HLS.S30.T10SDH.2025088T185021.v2.0.VZA.tif — not enough bands.\n"
     ]
    },
    {
     "name": "stderr",
     "output_type": "stream",
     "text": [
      "Processing files:   3%|▎         | 21/738 [00:01<00:38, 18.86it/s]"
     ]
    },
    {
     "name": "stdout",
     "output_type": "stream",
     "text": [
      "⚠️ Skipping HLS.S30.T10SEH.2025088T185021.v2.0.B01.tif — not enough bands.\n",
      "⚠️ Skipping HLS.S30.T10SEH.2025088T185021.v2.0.B02.tif — not enough bands.\n",
      "⚠️ Skipping HLS.S30.T10SEH.2025088T185021.v2.0.B03.tif — not enough bands.\n",
      "⚠️ Skipping HLS.S30.T10SEH.2025088T185021.v2.0.B04.tif — not enough bands.\n",
      "⚠️ Skipping HLS.S30.T10SEH.2025088T185021.v2.0.B05.tif — not enough bands.\n"
     ]
    },
    {
     "name": "stderr",
     "output_type": "stream",
     "text": [
      "Processing files:   4%|▎         | 27/738 [00:01<00:35, 19.95it/s]"
     ]
    },
    {
     "name": "stdout",
     "output_type": "stream",
     "text": [
      "⚠️ Skipping HLS.S30.T10SEH.2025088T185021.v2.0.B06.tif — not enough bands.\n",
      "⚠️ Skipping HLS.S30.T10SEH.2025088T185021.v2.0.B07.tif — not enough bands.\n",
      "⚠️ Skipping HLS.S30.T10SEH.2025088T185021.v2.0.B08.tif — not enough bands.\n",
      "⚠️ Skipping HLS.S30.T10SEH.2025088T185021.v2.0.B09.tif — not enough bands.\n",
      "⚠️ Skipping HLS.S30.T10SEH.2025088T185021.v2.0.B10.tif — not enough bands.\n"
     ]
    },
    {
     "name": "stderr",
     "output_type": "stream",
     "text": [
      "Processing files:   4%|▍         | 33/738 [00:01<00:32, 21.56it/s]"
     ]
    },
    {
     "name": "stdout",
     "output_type": "stream",
     "text": [
      "⚠️ Skipping HLS.S30.T10SEH.2025088T185021.v2.0.B11.tif — not enough bands.\n",
      "⚠️ Skipping HLS.S30.T10SEH.2025088T185021.v2.0.B12.tif — not enough bands.\n",
      "⚠️ Skipping HLS.S30.T10SEH.2025088T185021.v2.0.B8A.tif — not enough bands.\n",
      "⚠️ Skipping HLS.S30.T10SEH.2025088T185021.v2.0.Fmask.tif — not enough bands.\n",
      "⚠️ Skipping HLS.S30.T10SEH.2025088T185021.v2.0.SAA.tif — not enough bands.\n"
     ]
    },
    {
     "name": "stderr",
     "output_type": "stream",
     "text": [
      "Processing files:   5%|▍         | 36/738 [00:02<00:31, 22.12it/s]"
     ]
    },
    {
     "name": "stdout",
     "output_type": "stream",
     "text": [
      "⚠️ Skipping HLS.S30.T10SEH.2025088T185021.v2.0.SZA.tif — not enough bands.\n",
      "⚠️ Skipping HLS.S30.T10SEH.2025088T185021.v2.0.VAA.tif — not enough bands.\n",
      "⚠️ Skipping HLS.S30.T10SEH.2025088T185021.v2.0.VZA.tif — not enough bands.\n",
      "⚠️ Skipping HLS.S30.T10SFD.2025087T184821.v2.0.B01.tif — not enough bands.\n",
      "⚠️ Skipping HLS.S30.T10SFD.2025087T184821.v2.0.B02.tif — not enough bands.\n",
      "⚠️ Skipping HLS.S30.T10SFD.2025087T184821.v2.0.B03.tif — not enough bands.\n"
     ]
    },
    {
     "name": "stderr",
     "output_type": "stream",
     "text": [
      "Processing files:   6%|▌         | 45/738 [00:02<00:28, 24.19it/s]"
     ]
    },
    {
     "name": "stdout",
     "output_type": "stream",
     "text": [
      "⚠️ Skipping HLS.S30.T10SFD.2025087T184821.v2.0.B04.tif — not enough bands.\n",
      "⚠️ Skipping HLS.S30.T10SFD.2025087T184821.v2.0.B05.tif — not enough bands.\n",
      "⚠️ Skipping HLS.S30.T10SFD.2025087T184821.v2.0.B06.tif — not enough bands.\n",
      "⚠️ Skipping HLS.S30.T10SFD.2025087T184821.v2.0.B07.tif — not enough bands.\n",
      "⚠️ Skipping HLS.S30.T10SFD.2025087T184821.v2.0.B08.tif — not enough bands.\n",
      "⚠️ Skipping HLS.S30.T10SFD.2025087T184821.v2.0.B09.tif — not enough bands.\n"
     ]
    },
    {
     "name": "stderr",
     "output_type": "stream",
     "text": [
      "Processing files:   7%|▋         | 51/738 [00:02<00:28, 24.53it/s]"
     ]
    },
    {
     "name": "stdout",
     "output_type": "stream",
     "text": [
      "⚠️ Skipping HLS.S30.T10SFD.2025087T184821.v2.0.B10.tif — not enough bands.\n",
      "⚠️ Skipping HLS.S30.T10SFD.2025087T184821.v2.0.B11.tif — not enough bands.\n",
      "⚠️ Skipping HLS.S30.T10SFD.2025087T184821.v2.0.B12.tif — not enough bands.\n",
      "⚠️ Skipping HLS.S30.T10SFD.2025087T184821.v2.0.B8A.tif — not enough bands.\n",
      "⚠️ Skipping HLS.S30.T10SFD.2025087T184821.v2.0.Fmask.tif — not enough bands.\n",
      "⚠️ Skipping HLS.S30.T10SFD.2025087T184821.v2.0.SAA.tif — not enough bands.\n"
     ]
    },
    {
     "name": "stderr",
     "output_type": "stream",
     "text": [
      "Processing files:   8%|▊         | 57/738 [00:02<00:27, 24.57it/s]"
     ]
    },
    {
     "name": "stdout",
     "output_type": "stream",
     "text": [
      "⚠️ Skipping HLS.S30.T10SFD.2025087T184821.v2.0.SZA.tif — not enough bands.\n",
      "⚠️ Skipping HLS.S30.T10SFD.2025087T184821.v2.0.VAA.tif — not enough bands.\n",
      "⚠️ Skipping HLS.S30.T10SFD.2025087T184821.v2.0.VZA.tif — not enough bands.\n",
      "⚠️ Skipping HLS.S30.T10SFE.2025088T185021.v2.0.B01.tif — not enough bands.\n",
      "⚠️ Skipping HLS.S30.T10SFE.2025088T185021.v2.0.B02.tif — not enough bands.\n",
      "⚠️ Skipping HLS.S30.T10SFE.2025088T185021.v2.0.B03.tif — not enough bands.\n"
     ]
    },
    {
     "name": "stderr",
     "output_type": "stream",
     "text": [
      "Processing files:   9%|▊         | 63/738 [00:03<00:27, 24.82it/s]"
     ]
    },
    {
     "name": "stdout",
     "output_type": "stream",
     "text": [
      "⚠️ Skipping HLS.S30.T10SFE.2025088T185021.v2.0.B04.tif — not enough bands.\n",
      "⚠️ Skipping HLS.S30.T10SFE.2025088T185021.v2.0.B05.tif — not enough bands.\n",
      "⚠️ Skipping HLS.S30.T10SFE.2025088T185021.v2.0.B06.tif — not enough bands.\n",
      "⚠️ Skipping HLS.S30.T10SFE.2025088T185021.v2.0.B07.tif — not enough bands.\n",
      "⚠️ Skipping HLS.S30.T10SFE.2025088T185021.v2.0.B08.tif — not enough bands.\n",
      "⚠️ Skipping HLS.S30.T10SFE.2025088T185021.v2.0.B09.tif — not enough bands.\n"
     ]
    },
    {
     "name": "stderr",
     "output_type": "stream",
     "text": [
      "Processing files:   9%|▉         | 69/738 [00:03<00:27, 24.50it/s]"
     ]
    },
    {
     "name": "stdout",
     "output_type": "stream",
     "text": [
      "⚠️ Skipping HLS.S30.T10SFE.2025088T185021.v2.0.B10.tif — not enough bands.\n",
      "⚠️ Skipping HLS.S30.T10SFE.2025088T185021.v2.0.B11.tif — not enough bands.\n",
      "⚠️ Skipping HLS.S30.T10SFE.2025088T185021.v2.0.B12.tif — not enough bands.\n",
      "⚠️ Skipping HLS.S30.T10SFE.2025088T185021.v2.0.B8A.tif — not enough bands.\n",
      "⚠️ Skipping HLS.S30.T10SFE.2025088T185021.v2.0.Fmask.tif — not enough bands.\n",
      "⚠️ Skipping HLS.S30.T10SFE.2025088T185021.v2.0.SAA.tif — not enough bands.\n"
     ]
    },
    {
     "name": "stderr",
     "output_type": "stream",
     "text": [
      "Processing files:  10%|▉         | 72/738 [00:03<00:27, 24.59it/s]"
     ]
    },
    {
     "name": "stdout",
     "output_type": "stream",
     "text": [
      "⚠️ Skipping HLS.S30.T10SFE.2025088T185021.v2.0.SZA.tif — not enough bands.\n",
      "⚠️ Skipping HLS.S30.T10SFE.2025088T185021.v2.0.VAA.tif — not enough bands.\n",
      "⚠️ Skipping HLS.S30.T10SFE.2025088T185021.v2.0.VZA.tif — not enough bands.\n",
      "⚠️ Skipping HLS.S30.T10SFG.2025085T184031.v2.0.B01.tif — not enough bands.\n",
      "⚠️ Skipping HLS.S30.T10SFG.2025085T184031.v2.0.B02.tif — not enough bands.\n",
      "⚠️ Skipping HLS.S30.T10SFG.2025085T184031.v2.0.B03.tif — not enough bands.\n"
     ]
    },
    {
     "name": "stderr",
     "output_type": "stream",
     "text": [
      "Processing files:  11%|█         | 81/738 [00:03<00:26, 24.55it/s]"
     ]
    },
    {
     "name": "stdout",
     "output_type": "stream",
     "text": [
      "⚠️ Skipping HLS.S30.T10SFG.2025085T184031.v2.0.B04.tif — not enough bands.\n",
      "⚠️ Skipping HLS.S30.T10SFG.2025085T184031.v2.0.B05.tif — not enough bands.\n",
      "⚠️ Skipping HLS.S30.T10SFG.2025085T184031.v2.0.B06.tif — not enough bands.\n",
      "⚠️ Skipping HLS.S30.T10SFG.2025085T184031.v2.0.B07.tif — not enough bands.\n",
      "⚠️ Skipping HLS.S30.T10SFG.2025085T184031.v2.0.B08.tif — not enough bands.\n",
      "⚠️ Skipping HLS.S30.T10SFG.2025085T184031.v2.0.B09.tif — not enough bands.\n"
     ]
    },
    {
     "name": "stderr",
     "output_type": "stream",
     "text": [
      "Processing files:  12%|█▏        | 87/738 [00:04<00:26, 24.73it/s]"
     ]
    },
    {
     "name": "stdout",
     "output_type": "stream",
     "text": [
      "⚠️ Skipping HLS.S30.T10SFG.2025085T184031.v2.0.B10.tif — not enough bands.\n",
      "⚠️ Skipping HLS.S30.T10SFG.2025085T184031.v2.0.B11.tif — not enough bands.\n",
      "⚠️ Skipping HLS.S30.T10SFG.2025085T184031.v2.0.B12.tif — not enough bands.\n",
      "⚠️ Skipping HLS.S30.T10SFG.2025085T184031.v2.0.B8A.tif — not enough bands.\n",
      "⚠️ Skipping HLS.S30.T10SFG.2025085T184031.v2.0.Fmask.tif — not enough bands.\n",
      "⚠️ Skipping HLS.S30.T10SFG.2025085T184031.v2.0.SAA.tif — not enough bands.\n"
     ]
    },
    {
     "name": "stderr",
     "output_type": "stream",
     "text": [
      "Processing files:  12%|█▏        | 90/738 [00:04<00:26, 24.41it/s]"
     ]
    },
    {
     "name": "stdout",
     "output_type": "stream",
     "text": [
      "⚠️ Skipping HLS.S30.T10SFG.2025085T184031.v2.0.SZA.tif — not enough bands.\n",
      "⚠️ Skipping HLS.S30.T10SFG.2025085T184031.v2.0.VAA.tif — not enough bands.\n",
      "⚠️ Skipping HLS.S30.T10SFG.2025085T184031.v2.0.VZA.tif — not enough bands.\n",
      "⚠️ Skipping HLS.S30.T10SFG.2025088T185021.v2.0.B01.tif — not enough bands.\n",
      "⚠️ Skipping HLS.S30.T10SFG.2025088T185021.v2.0.B02.tif — not enough bands.\n",
      "⚠️ Skipping HLS.S30.T10SFG.2025088T185021.v2.0.B03.tif — not enough bands.\n"
     ]
    },
    {
     "name": "stderr",
     "output_type": "stream",
     "text": [
      "Processing files:  13%|█▎        | 96/738 [00:04<00:27, 23.39it/s]"
     ]
    },
    {
     "name": "stdout",
     "output_type": "stream",
     "text": [
      "⚠️ Skipping HLS.S30.T10SFG.2025088T185021.v2.0.B04.tif — not enough bands.\n",
      "⚠️ Skipping HLS.S30.T10SFG.2025088T185021.v2.0.B05.tif — not enough bands.\n",
      "⚠️ Skipping HLS.S30.T10SFG.2025088T185021.v2.0.B06.tif — not enough bands.\n",
      "⚠️ Skipping HLS.S30.T10SFG.2025088T185021.v2.0.B07.tif — not enough bands.\n",
      "⚠️ Skipping HLS.S30.T10SFG.2025088T185021.v2.0.B08.tif — not enough bands.\n",
      "⚠️ Skipping HLS.S30.T10SFG.2025088T185021.v2.0.B09.tif — not enough bands.\n"
     ]
    },
    {
     "name": "stderr",
     "output_type": "stream",
     "text": [
      "Processing files:  14%|█▍        | 105/738 [00:04<00:27, 23.39it/s]"
     ]
    },
    {
     "name": "stdout",
     "output_type": "stream",
     "text": [
      "⚠️ Skipping HLS.S30.T10SFG.2025088T185021.v2.0.B10.tif — not enough bands.\n",
      "⚠️ Skipping HLS.S30.T10SFG.2025088T185021.v2.0.B11.tif — not enough bands.\n",
      "⚠️ Skipping HLS.S30.T10SFG.2025088T185021.v2.0.B12.tif — not enough bands.\n",
      "⚠️ Skipping HLS.S30.T10SFG.2025088T185021.v2.0.B8A.tif — not enough bands.\n",
      "⚠️ Skipping HLS.S30.T10SFG.2025088T185021.v2.0.Fmask.tif — not enough bands.\n",
      "⚠️ Skipping HLS.S30.T10SFG.2025088T185021.v2.0.SAA.tif — not enough bands.\n"
     ]
    },
    {
     "name": "stderr",
     "output_type": "stream",
     "text": [
      "Processing files:  15%|█▍        | 108/738 [00:05<00:26, 23.36it/s]"
     ]
    },
    {
     "name": "stdout",
     "output_type": "stream",
     "text": [
      "⚠️ Skipping HLS.S30.T10SFG.2025088T185021.v2.0.SZA.tif — not enough bands.\n",
      "⚠️ Skipping HLS.S30.T10SFG.2025088T185021.v2.0.VAA.tif — not enough bands.\n",
      "⚠️ Skipping HLS.S30.T10SFG.2025088T185021.v2.0.VZA.tif — not enough bands.\n",
      "⚠️ Skipping HLS.S30.T10SFH.2025085T184031.v2.0.B01.tif — not enough bands.\n",
      "⚠️ Skipping HLS.S30.T10SFH.2025085T184031.v2.0.B02.tif — not enough bands.\n"
     ]
    },
    {
     "name": "stderr",
     "output_type": "stream",
     "text": [
      "Processing files:  15%|█▌        | 114/738 [00:05<00:28, 21.63it/s]"
     ]
    },
    {
     "name": "stdout",
     "output_type": "stream",
     "text": [
      "⚠️ Skipping HLS.S30.T10SFH.2025085T184031.v2.0.B03.tif — not enough bands.\n",
      "⚠️ Skipping HLS.S30.T10SFH.2025085T184031.v2.0.B04.tif — not enough bands.\n",
      "⚠️ Skipping HLS.S30.T10SFH.2025085T184031.v2.0.B05.tif — not enough bands.\n",
      "⚠️ Skipping HLS.S30.T10SFH.2025085T184031.v2.0.B06.tif — not enough bands.\n",
      "⚠️ Skipping HLS.S30.T10SFH.2025085T184031.v2.0.B07.tif — not enough bands.\n"
     ]
    },
    {
     "name": "stderr",
     "output_type": "stream",
     "text": [
      "Processing files:  16%|█▋        | 120/738 [00:05<00:27, 22.62it/s]"
     ]
    },
    {
     "name": "stdout",
     "output_type": "stream",
     "text": [
      "⚠️ Skipping HLS.S30.T10SFH.2025085T184031.v2.0.B08.tif — not enough bands.\n",
      "⚠️ Skipping HLS.S30.T10SFH.2025085T184031.v2.0.B09.tif — not enough bands.\n",
      "⚠️ Skipping HLS.S30.T10SFH.2025085T184031.v2.0.B10.tif — not enough bands.\n",
      "⚠️ Skipping HLS.S30.T10SFH.2025085T184031.v2.0.B11.tif — not enough bands.\n",
      "⚠️ Skipping HLS.S30.T10SFH.2025085T184031.v2.0.B12.tif — not enough bands.\n",
      "⚠️ Skipping HLS.S30.T10SFH.2025085T184031.v2.0.B8A.tif — not enough bands.\n"
     ]
    },
    {
     "name": "stderr",
     "output_type": "stream",
     "text": [
      "Processing files:  17%|█▋        | 126/738 [00:05<00:25, 23.81it/s]"
     ]
    },
    {
     "name": "stdout",
     "output_type": "stream",
     "text": [
      "⚠️ Skipping HLS.S30.T10SFH.2025085T184031.v2.0.Fmask.tif — not enough bands.\n",
      "⚠️ Skipping HLS.S30.T10SFH.2025085T184031.v2.0.SAA.tif — not enough bands.\n",
      "⚠️ Skipping HLS.S30.T10SFH.2025085T184031.v2.0.SZA.tif — not enough bands.\n",
      "⚠️ Skipping HLS.S30.T10SFH.2025085T184031.v2.0.VAA.tif — not enough bands.\n",
      "⚠️ Skipping HLS.S30.T10SFH.2025085T184031.v2.0.VZA.tif — not enough bands.\n",
      "⚠️ Skipping HLS.S30.T10SFH.2025088T185021.v2.0.B01.tif — not enough bands.\n"
     ]
    },
    {
     "name": "stderr",
     "output_type": "stream",
     "text": [
      "Processing files:  18%|█▊        | 132/738 [00:06<00:24, 24.35it/s]"
     ]
    },
    {
     "name": "stdout",
     "output_type": "stream",
     "text": [
      "⚠️ Skipping HLS.S30.T10SFH.2025088T185021.v2.0.B02.tif — not enough bands.\n",
      "⚠️ Skipping HLS.S30.T10SFH.2025088T185021.v2.0.B03.tif — not enough bands.\n",
      "⚠️ Skipping HLS.S30.T10SFH.2025088T185021.v2.0.B04.tif — not enough bands.\n",
      "⚠️ Skipping HLS.S30.T10SFH.2025088T185021.v2.0.B05.tif — not enough bands.\n",
      "⚠️ Skipping HLS.S30.T10SFH.2025088T185021.v2.0.B06.tif — not enough bands.\n",
      "⚠️ Skipping HLS.S30.T10SFH.2025088T185021.v2.0.B07.tif — not enough bands.\n"
     ]
    },
    {
     "name": "stderr",
     "output_type": "stream",
     "text": [
      "Processing files:  18%|█▊        | 135/738 [00:06<00:24, 24.25it/s]"
     ]
    },
    {
     "name": "stdout",
     "output_type": "stream",
     "text": [
      "⚠️ Skipping HLS.S30.T10SFH.2025088T185021.v2.0.B08.tif — not enough bands.\n",
      "⚠️ Skipping HLS.S30.T10SFH.2025088T185021.v2.0.B09.tif — not enough bands.\n",
      "⚠️ Skipping HLS.S30.T10SFH.2025088T185021.v2.0.B10.tif — not enough bands.\n",
      "⚠️ Skipping HLS.S30.T10SFH.2025088T185021.v2.0.B11.tif — not enough bands.\n"
     ]
    },
    {
     "name": "stderr",
     "output_type": "stream",
     "text": [
      "Processing files:  19%|█▉        | 141/738 [00:06<00:28, 20.76it/s]"
     ]
    },
    {
     "name": "stdout",
     "output_type": "stream",
     "text": [
      "⚠️ Skipping HLS.S30.T10SFH.2025088T185021.v2.0.B12.tif — not enough bands.\n",
      "⚠️ Skipping HLS.S30.T10SFH.2025088T185021.v2.0.B8A.tif — not enough bands.\n",
      "⚠️ Skipping HLS.S30.T10SFH.2025088T185021.v2.0.Fmask.tif — not enough bands.\n",
      "⚠️ Skipping HLS.S30.T10SFH.2025088T185021.v2.0.SAA.tif — not enough bands.\n",
      "⚠️ Skipping HLS.S30.T10SFH.2025088T185021.v2.0.SZA.tif — not enough bands.\n"
     ]
    },
    {
     "name": "stderr",
     "output_type": "stream",
     "text": [
      "Processing files:  20%|█▉        | 147/738 [00:06<00:26, 22.05it/s]"
     ]
    },
    {
     "name": "stdout",
     "output_type": "stream",
     "text": [
      "⚠️ Skipping HLS.S30.T10SFH.2025088T185021.v2.0.VAA.tif — not enough bands.\n",
      "⚠️ Skipping HLS.S30.T10SFH.2025088T185021.v2.0.VZA.tif — not enough bands.\n",
      "⚠️ Skipping HLS.S30.T10SFJ.2025085T184031.v2.0.B01.tif — not enough bands.\n",
      "⚠️ Skipping HLS.S30.T10SFJ.2025085T184031.v2.0.B02.tif — not enough bands.\n",
      "⚠️ Skipping HLS.S30.T10SFJ.2025085T184031.v2.0.B03.tif — not enough bands.\n",
      "⚠️ Skipping HLS.S30.T10SFJ.2025085T184031.v2.0.B04.tif — not enough bands.\n"
     ]
    },
    {
     "name": "stderr",
     "output_type": "stream",
     "text": [
      "Processing files:  21%|██        | 153/738 [00:07<00:25, 23.02it/s]"
     ]
    },
    {
     "name": "stdout",
     "output_type": "stream",
     "text": [
      "⚠️ Skipping HLS.S30.T10SFJ.2025085T184031.v2.0.B05.tif — not enough bands.\n",
      "⚠️ Skipping HLS.S30.T10SFJ.2025085T184031.v2.0.B06.tif — not enough bands.\n",
      "⚠️ Skipping HLS.S30.T10SFJ.2025085T184031.v2.0.B07.tif — not enough bands.\n",
      "⚠️ Skipping HLS.S30.T10SFJ.2025085T184031.v2.0.B08.tif — not enough bands.\n",
      "⚠️ Skipping HLS.S30.T10SFJ.2025085T184031.v2.0.B09.tif — not enough bands.\n",
      "⚠️ Skipping HLS.S30.T10SFJ.2025085T184031.v2.0.B10.tif — not enough bands.\n"
     ]
    },
    {
     "name": "stderr",
     "output_type": "stream",
     "text": [
      "Processing files:  22%|██▏       | 159/738 [00:07<00:26, 22.20it/s]"
     ]
    },
    {
     "name": "stdout",
     "output_type": "stream",
     "text": [
      "⚠️ Skipping HLS.S30.T10SFJ.2025085T184031.v2.0.B11.tif — not enough bands.\n",
      "⚠️ Skipping HLS.S30.T10SFJ.2025085T184031.v2.0.B12.tif — not enough bands.\n",
      "⚠️ Skipping HLS.S30.T10SFJ.2025085T184031.v2.0.B8A.tif — not enough bands.\n",
      "⚠️ Skipping HLS.S30.T10SFJ.2025085T184031.v2.0.Fmask.tif — not enough bands.\n",
      "⚠️ Skipping HLS.S30.T10SFJ.2025085T184031.v2.0.SAA.tif — not enough bands.\n"
     ]
    },
    {
     "name": "stderr",
     "output_type": "stream",
     "text": [
      "Processing files:  22%|██▏       | 162/738 [00:07<00:27, 20.96it/s]"
     ]
    },
    {
     "name": "stdout",
     "output_type": "stream",
     "text": [
      "⚠️ Skipping HLS.S30.T10SFJ.2025085T184031.v2.0.SZA.tif — not enough bands.\n",
      "⚠️ Skipping HLS.S30.T10SFJ.2025085T184031.v2.0.VAA.tif — not enough bands.\n",
      "⚠️ Skipping HLS.S30.T10SFJ.2025085T184031.v2.0.VZA.tif — not enough bands.\n",
      "⚠️ Skipping HLS.S30.T10SGF.2025085T184031.v2.0.B01.tif — not enough bands.\n",
      "⚠️ Skipping HLS.S30.T10SGF.2025085T184031.v2.0.B02.tif — not enough bands.\n"
     ]
    },
    {
     "name": "stderr",
     "output_type": "stream",
     "text": [
      "Processing files:  23%|██▎       | 167/738 [00:07<00:30, 18.43it/s]"
     ]
    },
    {
     "name": "stdout",
     "output_type": "stream",
     "text": [
      "⚠️ Skipping HLS.S30.T10SGF.2025085T184031.v2.0.B03.tif — not enough bands.\n",
      "⚠️ Skipping HLS.S30.T10SGF.2025085T184031.v2.0.B04.tif — not enough bands.\n",
      "⚠️ Skipping HLS.S30.T10SGF.2025085T184031.v2.0.B05.tif — not enough bands.\n",
      "⚠️ Skipping HLS.S30.T10SGF.2025085T184031.v2.0.B06.tif — not enough bands.\n"
     ]
    },
    {
     "name": "stderr",
     "output_type": "stream",
     "text": [
      "Processing files:  23%|██▎       | 171/738 [00:07<00:31, 18.21it/s]"
     ]
    },
    {
     "name": "stdout",
     "output_type": "stream",
     "text": [
      "⚠️ Skipping HLS.S30.T10SGF.2025085T184031.v2.0.B07.tif — not enough bands.\n",
      "⚠️ Skipping HLS.S30.T10SGF.2025085T184031.v2.0.B08.tif — not enough bands.\n",
      "⚠️ Skipping HLS.S30.T10SGF.2025085T184031.v2.0.B09.tif — not enough bands.\n",
      "⚠️ Skipping HLS.S30.T10SGF.2025085T184031.v2.0.B10.tif — not enough bands.\n"
     ]
    },
    {
     "name": "stderr",
     "output_type": "stream",
     "text": [
      "Processing files:  24%|██▎       | 175/738 [00:08<00:30, 18.25it/s]"
     ]
    },
    {
     "name": "stdout",
     "output_type": "stream",
     "text": [
      "⚠️ Skipping HLS.S30.T10SGF.2025085T184031.v2.0.B11.tif — not enough bands.\n",
      "⚠️ Skipping HLS.S30.T10SGF.2025085T184031.v2.0.B12.tif — not enough bands.\n",
      "⚠️ Skipping HLS.S30.T10SGF.2025085T184031.v2.0.B8A.tif — not enough bands.\n",
      "⚠️ Skipping HLS.S30.T10SGF.2025085T184031.v2.0.Fmask.tif — not enough bands.\n"
     ]
    },
    {
     "name": "stderr",
     "output_type": "stream",
     "text": [
      "Processing files:  24%|██▍       | 179/738 [00:08<00:37, 14.95it/s]"
     ]
    },
    {
     "name": "stdout",
     "output_type": "stream",
     "text": [
      "⚠️ Skipping HLS.S30.T10SGF.2025085T184031.v2.0.SAA.tif — not enough bands.\n",
      "⚠️ Skipping HLS.S30.T10SGF.2025085T184031.v2.0.SZA.tif — not enough bands.\n",
      "⚠️ Skipping HLS.S30.T10SGF.2025085T184031.v2.0.VAA.tif — not enough bands.\n",
      "⚠️ Skipping HLS.S30.T10SGF.2025085T184031.v2.0.VZA.tif — not enough bands.\n",
      "⚠️ Skipping HLS.S30.T10SGF.2025088T185021.v2.0.B01.tif — not enough bands.\n"
     ]
    },
    {
     "name": "stderr",
     "output_type": "stream",
     "text": [
      "Processing files:  25%|██▌       | 185/738 [00:08<00:33, 16.62it/s]"
     ]
    },
    {
     "name": "stdout",
     "output_type": "stream",
     "text": [
      "⚠️ Skipping HLS.S30.T10SGF.2025088T185021.v2.0.B02.tif — not enough bands.\n",
      "⚠️ Skipping HLS.S30.T10SGF.2025088T185021.v2.0.B03.tif — not enough bands.\n",
      "⚠️ Skipping HLS.S30.T10SGF.2025088T185021.v2.0.B04.tif — not enough bands.\n",
      "⚠️ Skipping HLS.S30.T10SGF.2025088T185021.v2.0.B05.tif — not enough bands.\n",
      "⚠️ Skipping HLS.S30.T10SGF.2025088T185021.v2.0.B06.tif — not enough bands.\n"
     ]
    },
    {
     "name": "stderr",
     "output_type": "stream",
     "text": [
      "Processing files:  26%|██▌       | 191/738 [00:09<00:28, 19.49it/s]"
     ]
    },
    {
     "name": "stdout",
     "output_type": "stream",
     "text": [
      "⚠️ Skipping HLS.S30.T10SGF.2025088T185021.v2.0.B07.tif — not enough bands.\n",
      "⚠️ Skipping HLS.S30.T10SGF.2025088T185021.v2.0.B08.tif — not enough bands.\n",
      "⚠️ Skipping HLS.S30.T10SGF.2025088T185021.v2.0.B09.tif — not enough bands.\n",
      "⚠️ Skipping HLS.S30.T10SGF.2025088T185021.v2.0.B10.tif — not enough bands.\n",
      "⚠️ Skipping HLS.S30.T10SGF.2025088T185021.v2.0.B11.tif — not enough bands.\n"
     ]
    },
    {
     "name": "stderr",
     "output_type": "stream",
     "text": [
      "Processing files:  26%|██▋       | 195/738 [00:09<00:27, 19.39it/s]"
     ]
    },
    {
     "name": "stdout",
     "output_type": "stream",
     "text": [
      "⚠️ Skipping HLS.S30.T10SGF.2025088T185021.v2.0.B12.tif — not enough bands.\n",
      "⚠️ Skipping HLS.S30.T10SGF.2025088T185021.v2.0.B8A.tif — not enough bands.\n",
      "⚠️ Skipping HLS.S30.T10SGF.2025088T185021.v2.0.Fmask.tif — not enough bands.\n",
      "⚠️ Skipping HLS.S30.T10SGF.2025088T185021.v2.0.SAA.tif — not enough bands.\n",
      "⚠️ Skipping HLS.S30.T10SGF.2025088T185021.v2.0.SZA.tif — not enough bands.\n"
     ]
    },
    {
     "name": "stderr",
     "output_type": "stream",
     "text": [
      "Processing files:  27%|██▋       | 201/738 [00:09<00:24, 21.66it/s]"
     ]
    },
    {
     "name": "stdout",
     "output_type": "stream",
     "text": [
      "⚠️ Skipping HLS.S30.T10SGF.2025088T185021.v2.0.VAA.tif — not enough bands.\n",
      "⚠️ Skipping HLS.S30.T10SGF.2025088T185021.v2.0.VZA.tif — not enough bands.\n",
      "⚠️ Skipping HLS.S30.T10SGG.2025085T184031.v2.0.B01.tif — not enough bands.\n",
      "⚠️ Skipping HLS.S30.T10SGG.2025085T184031.v2.0.B02.tif — not enough bands.\n",
      "⚠️ Skipping HLS.S30.T10SGG.2025085T184031.v2.0.B03.tif — not enough bands.\n",
      "⚠️ Skipping HLS.S30.T10SGG.2025085T184031.v2.0.B04.tif — not enough bands.\n"
     ]
    },
    {
     "name": "stderr",
     "output_type": "stream",
     "text": [
      "Processing files:  28%|██▊       | 207/738 [00:09<00:22, 23.31it/s]"
     ]
    },
    {
     "name": "stdout",
     "output_type": "stream",
     "text": [
      "⚠️ Skipping HLS.S30.T10SGG.2025085T184031.v2.0.B05.tif — not enough bands.\n",
      "⚠️ Skipping HLS.S30.T10SGG.2025085T184031.v2.0.B06.tif — not enough bands.\n",
      "⚠️ Skipping HLS.S30.T10SGG.2025085T184031.v2.0.B07.tif — not enough bands.\n",
      "⚠️ Skipping HLS.S30.T10SGG.2025085T184031.v2.0.B08.tif — not enough bands.\n",
      "⚠️ Skipping HLS.S30.T10SGG.2025085T184031.v2.0.B09.tif — not enough bands.\n",
      "⚠️ Skipping HLS.S30.T10SGG.2025085T184031.v2.0.B10.tif — not enough bands.\n"
     ]
    },
    {
     "name": "stderr",
     "output_type": "stream",
     "text": [
      "Processing files:  29%|██▉       | 213/738 [00:10<00:20, 25.29it/s]"
     ]
    },
    {
     "name": "stdout",
     "output_type": "stream",
     "text": [
      "⚠️ Skipping HLS.S30.T10SGG.2025085T184031.v2.0.B11.tif — not enough bands.\n",
      "⚠️ Skipping HLS.S30.T10SGG.2025085T184031.v2.0.B12.tif — not enough bands.\n",
      "⚠️ Skipping HLS.S30.T10SGG.2025085T184031.v2.0.B8A.tif — not enough bands.\n",
      "⚠️ Skipping HLS.S30.T10SGG.2025085T184031.v2.0.Fmask.tif — not enough bands.\n",
      "⚠️ Skipping HLS.S30.T10SGG.2025085T184031.v2.0.SAA.tif — not enough bands.\n",
      "⚠️ Skipping HLS.S30.T10SGG.2025085T184031.v2.0.SZA.tif — not enough bands.\n",
      "⚠️ Skipping HLS.S30.T10SGG.2025085T184031.v2.0.VAA.tif — not enough bands.\n"
     ]
    },
    {
     "name": "stderr",
     "output_type": "stream",
     "text": [
      "Processing files:  29%|██▉       | 217/738 [00:10<00:19, 26.71it/s]"
     ]
    },
    {
     "name": "stdout",
     "output_type": "stream",
     "text": [
      "⚠️ Skipping HLS.S30.T10SGG.2025085T184031.v2.0.VZA.tif — not enough bands.\n",
      "⚠️ Skipping HLS.S30.T10SGG.2025088T185021.v2.0.B01.tif — not enough bands.\n",
      "⚠️ Skipping HLS.S30.T10SGG.2025088T185021.v2.0.B02.tif — not enough bands.\n",
      "⚠️ Skipping HLS.S30.T10SGG.2025088T185021.v2.0.B03.tif — not enough bands.\n"
     ]
    },
    {
     "name": "stderr",
     "output_type": "stream",
     "text": [
      "Processing files:  30%|███       | 223/738 [00:10<00:22, 23.16it/s]"
     ]
    },
    {
     "name": "stdout",
     "output_type": "stream",
     "text": [
      "⚠️ Skipping HLS.S30.T10SGG.2025088T185021.v2.0.B04.tif — not enough bands.\n",
      "⚠️ Skipping HLS.S30.T10SGG.2025088T185021.v2.0.B05.tif — not enough bands.\n",
      "⚠️ Skipping HLS.S30.T10SGG.2025088T185021.v2.0.B06.tif — not enough bands.\n",
      "⚠️ Skipping HLS.S30.T10SGG.2025088T185021.v2.0.B07.tif — not enough bands.\n",
      "⚠️ Skipping HLS.S30.T10SGG.2025088T185021.v2.0.B08.tif — not enough bands.\n",
      "⚠️ Skipping HLS.S30.T10SGG.2025088T185021.v2.0.B09.tif — not enough bands.\n"
     ]
    },
    {
     "name": "stderr",
     "output_type": "stream",
     "text": [
      "Processing files:  31%|███       | 229/738 [00:10<00:20, 24.57it/s]"
     ]
    },
    {
     "name": "stdout",
     "output_type": "stream",
     "text": [
      "⚠️ Skipping HLS.S30.T10SGG.2025088T185021.v2.0.B10.tif — not enough bands.\n",
      "⚠️ Skipping HLS.S30.T10SGG.2025088T185021.v2.0.B11.tif — not enough bands.\n",
      "⚠️ Skipping HLS.S30.T10SGG.2025088T185021.v2.0.B12.tif — not enough bands.\n",
      "⚠️ Skipping HLS.S30.T10SGG.2025088T185021.v2.0.B8A.tif — not enough bands.\n",
      "⚠️ Skipping HLS.S30.T10SGG.2025088T185021.v2.0.Fmask.tif — not enough bands.\n",
      "⚠️ Skipping HLS.S30.T10SGG.2025088T185021.v2.0.SAA.tif — not enough bands.\n",
      "⚠️ Skipping HLS.S30.T10SGG.2025088T185021.v2.0.SZA.tif — not enough bands.\n"
     ]
    },
    {
     "name": "stderr",
     "output_type": "stream",
     "text": [
      "Processing files:  32%|███▏      | 236/738 [00:10<00:18, 26.61it/s]"
     ]
    },
    {
     "name": "stdout",
     "output_type": "stream",
     "text": [
      "⚠️ Skipping HLS.S30.T10SGG.2025088T185021.v2.0.VAA.tif — not enough bands.\n",
      "⚠️ Skipping HLS.S30.T10SGG.2025088T185021.v2.0.VZA.tif — not enough bands.\n",
      "⚠️ Skipping HLS.S30.T10SGH.2025085T184031.v2.0.B01.tif — not enough bands.\n",
      "⚠️ Skipping HLS.S30.T10SGH.2025085T184031.v2.0.B02.tif — not enough bands.\n",
      "⚠️ Skipping HLS.S30.T10SGH.2025085T184031.v2.0.B03.tif — not enough bands.\n",
      "⚠️ Skipping HLS.S30.T10SGH.2025085T184031.v2.0.B04.tif — not enough bands.\n",
      "⚠️ Skipping HLS.S30.T10SGH.2025085T184031.v2.0.B05.tif — not enough bands.\n"
     ]
    },
    {
     "name": "stderr",
     "output_type": "stream",
     "text": [
      "Processing files:  33%|███▎      | 243/738 [00:11<00:17, 27.73it/s]"
     ]
    },
    {
     "name": "stdout",
     "output_type": "stream",
     "text": [
      "⚠️ Skipping HLS.S30.T10SGH.2025085T184031.v2.0.B06.tif — not enough bands.\n",
      "⚠️ Skipping HLS.S30.T10SGH.2025085T184031.v2.0.B07.tif — not enough bands.\n",
      "⚠️ Skipping HLS.S30.T10SGH.2025085T184031.v2.0.B08.tif — not enough bands.\n",
      "⚠️ Skipping HLS.S30.T10SGH.2025085T184031.v2.0.B09.tif — not enough bands.\n",
      "⚠️ Skipping HLS.S30.T10SGH.2025085T184031.v2.0.B10.tif — not enough bands.\n",
      "⚠️ Skipping HLS.S30.T10SGH.2025085T184031.v2.0.B11.tif — not enough bands.\n",
      "⚠️ Skipping HLS.S30.T10SGH.2025085T184031.v2.0.B12.tif — not enough bands.\n"
     ]
    },
    {
     "name": "stderr",
     "output_type": "stream",
     "text": [
      "Processing files:  34%|███▍      | 250/738 [00:11<00:17, 28.01it/s]"
     ]
    },
    {
     "name": "stdout",
     "output_type": "stream",
     "text": [
      "⚠️ Skipping HLS.S30.T10SGH.2025085T184031.v2.0.B8A.tif — not enough bands.\n",
      "⚠️ Skipping HLS.S30.T10SGH.2025085T184031.v2.0.Fmask.tif — not enough bands.\n",
      "⚠️ Skipping HLS.S30.T10SGH.2025085T184031.v2.0.SAA.tif — not enough bands.\n",
      "⚠️ Skipping HLS.S30.T10SGH.2025085T184031.v2.0.SZA.tif — not enough bands.\n",
      "⚠️ Skipping HLS.S30.T10SGH.2025085T184031.v2.0.VAA.tif — not enough bands.\n",
      "⚠️ Skipping HLS.S30.T10SGH.2025085T184031.v2.0.VZA.tif — not enough bands.\n",
      "⚠️ Skipping HLS.S30.T10SGH.2025088T185021.v2.0.B01.tif — not enough bands.\n"
     ]
    },
    {
     "name": "stderr",
     "output_type": "stream",
     "text": [
      "Processing files:  35%|███▍      | 257/738 [00:11<00:17, 27.98it/s]"
     ]
    },
    {
     "name": "stdout",
     "output_type": "stream",
     "text": [
      "⚠️ Skipping HLS.S30.T10SGH.2025088T185021.v2.0.B02.tif — not enough bands.\n",
      "⚠️ Skipping HLS.S30.T10SGH.2025088T185021.v2.0.B03.tif — not enough bands.\n",
      "⚠️ Skipping HLS.S30.T10SGH.2025088T185021.v2.0.B04.tif — not enough bands.\n",
      "⚠️ Skipping HLS.S30.T10SGH.2025088T185021.v2.0.B05.tif — not enough bands.\n",
      "⚠️ Skipping HLS.S30.T10SGH.2025088T185021.v2.0.B06.tif — not enough bands.\n",
      "⚠️ Skipping HLS.S30.T10SGH.2025088T185021.v2.0.B07.tif — not enough bands.\n",
      "⚠️ Skipping HLS.S30.T10SGH.2025088T185021.v2.0.B08.tif — not enough bands.\n"
     ]
    },
    {
     "name": "stderr",
     "output_type": "stream",
     "text": [
      "Processing files:  35%|███▌      | 261/738 [00:11<00:16, 28.60it/s]"
     ]
    },
    {
     "name": "stdout",
     "output_type": "stream",
     "text": [
      "⚠️ Skipping HLS.S30.T10SGH.2025088T185021.v2.0.B09.tif — not enough bands.\n",
      "⚠️ Skipping HLS.S30.T10SGH.2025088T185021.v2.0.B10.tif — not enough bands.\n",
      "⚠️ Skipping HLS.S30.T10SGH.2025088T185021.v2.0.B11.tif — not enough bands.\n",
      "⚠️ Skipping HLS.S30.T10SGH.2025088T185021.v2.0.B12.tif — not enough bands.\n"
     ]
    },
    {
     "name": "stderr",
     "output_type": "stream",
     "text": [
      "Processing files:  37%|███▋      | 270/738 [00:12<00:19, 24.08it/s]"
     ]
    },
    {
     "name": "stdout",
     "output_type": "stream",
     "text": [
      "⚠️ Skipping HLS.S30.T10SGH.2025088T185021.v2.0.B8A.tif — not enough bands.\n",
      "⚠️ Skipping HLS.S30.T10SGH.2025088T185021.v2.0.Fmask.tif — not enough bands.\n",
      "⚠️ Skipping HLS.S30.T10SGH.2025088T185021.v2.0.SAA.tif — not enough bands.\n",
      "⚠️ Skipping HLS.S30.T10SGH.2025088T185021.v2.0.SZA.tif — not enough bands.\n",
      "⚠️ Skipping HLS.S30.T10SGH.2025088T185021.v2.0.VAA.tif — not enough bands.\n",
      "⚠️ Skipping HLS.S30.T10SGH.2025088T185021.v2.0.VZA.tif — not enough bands.\n"
     ]
    },
    {
     "name": "stderr",
     "output_type": "stream",
     "text": [
      "Processing files:  37%|███▋      | 276/738 [00:12<00:17, 25.71it/s]"
     ]
    },
    {
     "name": "stdout",
     "output_type": "stream",
     "text": [
      "⚠️ Skipping HLS.S30.T10SGJ.2025085T184031.v2.0.B01.tif — not enough bands.\n",
      "⚠️ Skipping HLS.S30.T10SGJ.2025085T184031.v2.0.B02.tif — not enough bands.\n",
      "⚠️ Skipping HLS.S30.T10SGJ.2025085T184031.v2.0.B03.tif — not enough bands.\n",
      "⚠️ Skipping HLS.S30.T10SGJ.2025085T184031.v2.0.B04.tif — not enough bands.\n",
      "⚠️ Skipping HLS.S30.T10SGJ.2025085T184031.v2.0.B05.tif — not enough bands.\n",
      "⚠️ Skipping HLS.S30.T10SGJ.2025085T184031.v2.0.B06.tif — not enough bands.\n"
     ]
    },
    {
     "name": "stderr",
     "output_type": "stream",
     "text": [
      "Processing files:  38%|███▊      | 282/738 [00:12<00:17, 25.89it/s]"
     ]
    },
    {
     "name": "stdout",
     "output_type": "stream",
     "text": [
      "⚠️ Skipping HLS.S30.T10SGJ.2025085T184031.v2.0.B07.tif — not enough bands.\n",
      "⚠️ Skipping HLS.S30.T10SGJ.2025085T184031.v2.0.B08.tif — not enough bands.\n",
      "⚠️ Skipping HLS.S30.T10SGJ.2025085T184031.v2.0.B09.tif — not enough bands.\n",
      "⚠️ Skipping HLS.S30.T10SGJ.2025085T184031.v2.0.B10.tif — not enough bands.\n",
      "⚠️ Skipping HLS.S30.T10SGJ.2025085T184031.v2.0.B11.tif — not enough bands.\n",
      "⚠️ Skipping HLS.S30.T10SGJ.2025085T184031.v2.0.B12.tif — not enough bands.\n"
     ]
    },
    {
     "name": "stderr",
     "output_type": "stream",
     "text": [
      "Processing files:  39%|███▊      | 285/738 [00:12<00:17, 25.63it/s]"
     ]
    },
    {
     "name": "stdout",
     "output_type": "stream",
     "text": [
      "⚠️ Skipping HLS.S30.T10SGJ.2025085T184031.v2.0.B8A.tif — not enough bands.\n",
      "⚠️ Skipping HLS.S30.T10SGJ.2025085T184031.v2.0.Fmask.tif — not enough bands.\n",
      "⚠️ Skipping HLS.S30.T10SGJ.2025085T184031.v2.0.SAA.tif — not enough bands.\n",
      "⚠️ Skipping HLS.S30.T10SGJ.2025085T184031.v2.0.SZA.tif — not enough bands.\n",
      "⚠️ Skipping HLS.S30.T10SGJ.2025085T184031.v2.0.VAA.tif — not enough bands.\n",
      "⚠️ Skipping HLS.S30.T10SGJ.2025085T184031.v2.0.VZA.tif — not enough bands.\n"
     ]
    },
    {
     "name": "stderr",
     "output_type": "stream",
     "text": [
      "Processing files:  39%|███▉      | 291/738 [00:13<00:18, 23.90it/s]"
     ]
    },
    {
     "name": "stdout",
     "output_type": "stream",
     "text": [
      "⚠️ Skipping HLS.S30.T10SGJ.2025088T185021.v2.0.B01.tif — not enough bands.\n",
      "⚠️ Skipping HLS.S30.T10SGJ.2025088T185021.v2.0.B02.tif — not enough bands.\n",
      "⚠️ Skipping HLS.S30.T10SGJ.2025088T185021.v2.0.B03.tif — not enough bands.\n",
      "⚠️ Skipping HLS.S30.T10SGJ.2025088T185021.v2.0.B04.tif — not enough bands.\n",
      "⚠️ Skipping HLS.S30.T10SGJ.2025088T185021.v2.0.B05.tif — not enough bands.\n"
     ]
    },
    {
     "name": "stderr",
     "output_type": "stream",
     "text": [
      "Processing files:  40%|████      | 297/738 [00:13<00:20, 21.64it/s]"
     ]
    },
    {
     "name": "stdout",
     "output_type": "stream",
     "text": [
      "⚠️ Skipping HLS.S30.T10SGJ.2025088T185021.v2.0.B06.tif — not enough bands.\n",
      "⚠️ Skipping HLS.S30.T10SGJ.2025088T185021.v2.0.B07.tif — not enough bands.\n",
      "⚠️ Skipping HLS.S30.T10SGJ.2025088T185021.v2.0.B08.tif — not enough bands.\n",
      "⚠️ Skipping HLS.S30.T10SGJ.2025088T185021.v2.0.B09.tif — not enough bands.\n",
      "⚠️ Skipping HLS.S30.T10SGJ.2025088T185021.v2.0.B10.tif — not enough bands.\n"
     ]
    },
    {
     "name": "stderr",
     "output_type": "stream",
     "text": [
      "Processing files:  41%|████      | 300/738 [00:13<00:20, 21.90it/s]"
     ]
    },
    {
     "name": "stdout",
     "output_type": "stream",
     "text": [
      "⚠️ Skipping HLS.S30.T10SGJ.2025088T185021.v2.0.B11.tif — not enough bands.\n",
      "⚠️ Skipping HLS.S30.T10SGJ.2025088T185021.v2.0.B12.tif — not enough bands.\n",
      "⚠️ Skipping HLS.S30.T10SGJ.2025088T185021.v2.0.B8A.tif — not enough bands.\n",
      "⚠️ Skipping HLS.S30.T10SGJ.2025088T185021.v2.0.Fmask.tif — not enough bands.\n",
      "⚠️ Skipping HLS.S30.T10SGJ.2025088T185021.v2.0.SAA.tif — not enough bands.\n"
     ]
    },
    {
     "name": "stderr",
     "output_type": "stream",
     "text": [
      "Processing files:  41%|████▏     | 306/738 [00:13<00:20, 20.98it/s]"
     ]
    },
    {
     "name": "stdout",
     "output_type": "stream",
     "text": [
      "⚠️ Skipping HLS.S30.T10SGJ.2025088T185021.v2.0.SZA.tif — not enough bands.\n",
      "⚠️ Skipping HLS.S30.T10SGJ.2025088T185021.v2.0.VAA.tif — not enough bands.\n",
      "⚠️ Skipping HLS.S30.T10SGJ.2025088T185021.v2.0.VZA.tif — not enough bands.\n"
     ]
    },
    {
     "name": "stderr",
     "output_type": "stream",
     "text": [
      "Processing files:  42%|████▏     | 309/738 [00:14<00:23, 18.09it/s]"
     ]
    },
    {
     "name": "stdout",
     "output_type": "stream",
     "text": [
      "⚠️ Skipping HLS.S30.T10TEK.2025088T185021.v2.0.B01.tif — not enough bands.\n",
      "⚠️ Skipping HLS.S30.T10TEK.2025088T185021.v2.0.B02.tif — not enough bands.\n",
      "⚠️ Skipping HLS.S30.T10TEK.2025088T185021.v2.0.B03.tif — not enough bands.\n",
      "⚠️ Skipping HLS.S30.T10TEK.2025088T185021.v2.0.B04.tif — not enough bands.\n"
     ]
    },
    {
     "name": "stderr",
     "output_type": "stream",
     "text": [
      "Processing files:  42%|████▏     | 313/738 [00:14<00:23, 17.89it/s]"
     ]
    },
    {
     "name": "stdout",
     "output_type": "stream",
     "text": [
      "⚠️ Skipping HLS.S30.T10TEK.2025088T185021.v2.0.B05.tif — not enough bands.\n",
      "⚠️ Skipping HLS.S30.T10TEK.2025088T185021.v2.0.B06.tif — not enough bands.\n",
      "⚠️ Skipping HLS.S30.T10TEK.2025088T185021.v2.0.B07.tif — not enough bands.\n",
      "⚠️ Skipping HLS.S30.T10TEK.2025088T185021.v2.0.B08.tif — not enough bands.\n",
      "⚠️ Skipping HLS.S30.T10TEK.2025088T185021.v2.0.B09.tif — not enough bands.\n"
     ]
    },
    {
     "name": "stderr",
     "output_type": "stream",
     "text": [
      "Processing files:  43%|████▎     | 318/738 [00:14<00:22, 19.06it/s]"
     ]
    },
    {
     "name": "stdout",
     "output_type": "stream",
     "text": [
      "⚠️ Skipping HLS.S30.T10TEK.2025088T185021.v2.0.B10.tif — not enough bands.\n",
      "⚠️ Skipping HLS.S30.T10TEK.2025088T185021.v2.0.B11.tif — not enough bands.\n",
      "⚠️ Skipping HLS.S30.T10TEK.2025088T185021.v2.0.B12.tif — not enough bands.\n",
      "⚠️ Skipping HLS.S30.T10TEK.2025088T185021.v2.0.B8A.tif — not enough bands.\n",
      "⚠️ Skipping HLS.S30.T10TEK.2025088T185021.v2.0.Fmask.tif — not enough bands.\n"
     ]
    },
    {
     "name": "stderr",
     "output_type": "stream",
     "text": [
      "Processing files:  44%|████▍     | 323/738 [00:14<00:21, 19.48it/s]"
     ]
    },
    {
     "name": "stdout",
     "output_type": "stream",
     "text": [
      "⚠️ Skipping HLS.S30.T10TEK.2025088T185021.v2.0.SAA.tif — not enough bands.\n",
      "⚠️ Skipping HLS.S30.T10TEK.2025088T185021.v2.0.SZA.tif — not enough bands.\n",
      "⚠️ Skipping HLS.S30.T10TEK.2025088T185021.v2.0.VAA.tif — not enough bands.\n",
      "⚠️ Skipping HLS.S30.T10TEK.2025088T185021.v2.0.VZA.tif — not enough bands.\n",
      "⚠️ Skipping HLS.S30.T10TGK.2025085T184031.v2.0.B01.tif — not enough bands.\n"
     ]
    },
    {
     "name": "stderr",
     "output_type": "stream",
     "text": [
      "Processing files:  45%|████▍     | 329/738 [00:15<00:19, 20.73it/s]"
     ]
    },
    {
     "name": "stdout",
     "output_type": "stream",
     "text": [
      "⚠️ Skipping HLS.S30.T10TGK.2025085T184031.v2.0.B02.tif — not enough bands.\n",
      "⚠️ Skipping HLS.S30.T10TGK.2025085T184031.v2.0.B03.tif — not enough bands.\n",
      "⚠️ Skipping HLS.S30.T10TGK.2025085T184031.v2.0.B04.tif — not enough bands.\n",
      "⚠️ Skipping HLS.S30.T10TGK.2025085T184031.v2.0.B05.tif — not enough bands.\n",
      "⚠️ Skipping HLS.S30.T10TGK.2025085T184031.v2.0.B06.tif — not enough bands.\n"
     ]
    },
    {
     "name": "stderr",
     "output_type": "stream",
     "text": [
      "Processing files:  45%|████▌     | 335/738 [00:15<00:19, 20.91it/s]"
     ]
    },
    {
     "name": "stdout",
     "output_type": "stream",
     "text": [
      "⚠️ Skipping HLS.S30.T10TGK.2025085T184031.v2.0.B07.tif — not enough bands.\n",
      "⚠️ Skipping HLS.S30.T10TGK.2025085T184031.v2.0.B08.tif — not enough bands.\n",
      "⚠️ Skipping HLS.S30.T10TGK.2025085T184031.v2.0.B09.tif — not enough bands.\n",
      "⚠️ Skipping HLS.S30.T10TGK.2025085T184031.v2.0.B10.tif — not enough bands.\n",
      "⚠️ Skipping HLS.S30.T10TGK.2025085T184031.v2.0.B11.tif — not enough bands.\n"
     ]
    },
    {
     "name": "stderr",
     "output_type": "stream",
     "text": [
      "Processing files:  46%|████▌     | 338/738 [00:15<00:19, 20.53it/s]"
     ]
    },
    {
     "name": "stdout",
     "output_type": "stream",
     "text": [
      "⚠️ Skipping HLS.S30.T10TGK.2025085T184031.v2.0.B12.tif — not enough bands.\n",
      "⚠️ Skipping HLS.S30.T10TGK.2025085T184031.v2.0.B8A.tif — not enough bands.\n",
      "⚠️ Skipping HLS.S30.T10TGK.2025085T184031.v2.0.Fmask.tif — not enough bands.\n",
      "⚠️ Skipping HLS.S30.T10TGK.2025085T184031.v2.0.SAA.tif — not enough bands.\n",
      "⚠️ Skipping HLS.S30.T10TGK.2025085T184031.v2.0.SZA.tif — not enough bands.\n"
     ]
    },
    {
     "name": "stderr",
     "output_type": "stream",
     "text": [
      "Processing files:  46%|████▋     | 343/738 [00:15<00:22, 17.38it/s]"
     ]
    },
    {
     "name": "stdout",
     "output_type": "stream",
     "text": [
      "⚠️ Skipping HLS.S30.T10TGK.2025085T184031.v2.0.VAA.tif — not enough bands.\n",
      "⚠️ Skipping HLS.S30.T10TGK.2025085T184031.v2.0.VZA.tif — not enough bands.\n",
      "⚠️ Skipping HLS.S30.T10TGL.2025085T184031.v2.0.B01.tif — not enough bands.\n",
      "⚠️ Skipping HLS.S30.T10TGL.2025085T184031.v2.0.B02.tif — not enough bands.\n",
      "⚠️ Skipping HLS.S30.T10TGL.2025085T184031.v2.0.B03.tif — not enough bands.\n"
     ]
    },
    {
     "name": "stderr",
     "output_type": "stream",
     "text": [
      "Processing files:  47%|████▋     | 349/738 [00:16<00:19, 19.96it/s]"
     ]
    },
    {
     "name": "stdout",
     "output_type": "stream",
     "text": [
      "⚠️ Skipping HLS.S30.T10TGL.2025085T184031.v2.0.B04.tif — not enough bands.\n",
      "⚠️ Skipping HLS.S30.T10TGL.2025085T184031.v2.0.B05.tif — not enough bands.\n",
      "⚠️ Skipping HLS.S30.T10TGL.2025085T184031.v2.0.B06.tif — not enough bands.\n",
      "⚠️ Skipping HLS.S30.T10TGL.2025085T184031.v2.0.B07.tif — not enough bands.\n",
      "⚠️ Skipping HLS.S30.T10TGL.2025085T184031.v2.0.B08.tif — not enough bands.\n",
      "⚠️ Skipping HLS.S30.T10TGL.2025085T184031.v2.0.B09.tif — not enough bands.\n"
     ]
    },
    {
     "name": "stderr",
     "output_type": "stream",
     "text": [
      "Processing files:  48%|████▊     | 355/738 [00:16<00:17, 21.61it/s]"
     ]
    },
    {
     "name": "stdout",
     "output_type": "stream",
     "text": [
      "⚠️ Skipping HLS.S30.T10TGL.2025085T184031.v2.0.B10.tif — not enough bands.\n",
      "⚠️ Skipping HLS.S30.T10TGL.2025085T184031.v2.0.B11.tif — not enough bands.\n",
      "⚠️ Skipping HLS.S30.T10TGL.2025085T184031.v2.0.B12.tif — not enough bands.\n",
      "⚠️ Skipping HLS.S30.T10TGL.2025085T184031.v2.0.B8A.tif — not enough bands.\n",
      "⚠️ Skipping HLS.S30.T10TGL.2025085T184031.v2.0.Fmask.tif — not enough bands.\n",
      "⚠️ Skipping HLS.S30.T10TGL.2025085T184031.v2.0.SAA.tif — not enough bands.\n"
     ]
    },
    {
     "name": "stderr",
     "output_type": "stream",
     "text": [
      "Processing files:  49%|████▉     | 361/738 [00:16<00:16, 22.25it/s]"
     ]
    },
    {
     "name": "stdout",
     "output_type": "stream",
     "text": [
      "⚠️ Skipping HLS.S30.T10TGL.2025085T184031.v2.0.SZA.tif — not enough bands.\n",
      "⚠️ Skipping HLS.S30.T10TGL.2025085T184031.v2.0.VAA.tif — not enough bands.\n",
      "⚠️ Skipping HLS.S30.T10TGL.2025085T184031.v2.0.VZA.tif — not enough bands.\n",
      "⚠️ Skipping HLS.S30.T11SKA.2025085T184031.v2.0.B01.tif — not enough bands.\n",
      "⚠️ Skipping HLS.S30.T11SKA.2025085T184031.v2.0.B02.tif — not enough bands.\n",
      "⚠️ Skipping HLS.S30.T11SKA.2025085T184031.v2.0.B03.tif — not enough bands.\n"
     ]
    },
    {
     "name": "stderr",
     "output_type": "stream",
     "text": [
      "Processing files:  50%|████▉     | 367/738 [00:16<00:17, 21.66it/s]"
     ]
    },
    {
     "name": "stdout",
     "output_type": "stream",
     "text": [
      "⚠️ Skipping HLS.S30.T11SKA.2025085T184031.v2.0.B04.tif — not enough bands.\n",
      "⚠️ Skipping HLS.S30.T11SKA.2025085T184031.v2.0.B05.tif — not enough bands.\n",
      "⚠️ Skipping HLS.S30.T11SKA.2025085T184031.v2.0.B06.tif — not enough bands.\n",
      "⚠️ Skipping HLS.S30.T11SKA.2025085T184031.v2.0.B07.tif — not enough bands.\n",
      "⚠️ Skipping HLS.S30.T11SKA.2025085T184031.v2.0.B08.tif — not enough bands.\n"
     ]
    },
    {
     "name": "stderr",
     "output_type": "stream",
     "text": [
      "Processing files:  51%|█████     | 373/738 [00:17<00:16, 21.53it/s]"
     ]
    },
    {
     "name": "stdout",
     "output_type": "stream",
     "text": [
      "⚠️ Skipping HLS.S30.T11SKA.2025085T184031.v2.0.B09.tif — not enough bands.\n",
      "⚠️ Skipping HLS.S30.T11SKA.2025085T184031.v2.0.B10.tif — not enough bands.\n",
      "⚠️ Skipping HLS.S30.T11SKA.2025085T184031.v2.0.B11.tif — not enough bands.\n",
      "⚠️ Skipping HLS.S30.T11SKA.2025085T184031.v2.0.B12.tif — not enough bands.\n",
      "⚠️ Skipping HLS.S30.T11SKA.2025085T184031.v2.0.B8A.tif — not enough bands.\n"
     ]
    },
    {
     "name": "stderr",
     "output_type": "stream",
     "text": [
      "Processing files:  51%|█████     | 376/738 [00:17<00:16, 21.86it/s]"
     ]
    },
    {
     "name": "stdout",
     "output_type": "stream",
     "text": [
      "⚠️ Skipping HLS.S30.T11SKA.2025085T184031.v2.0.Fmask.tif — not enough bands.\n",
      "⚠️ Skipping HLS.S30.T11SKA.2025085T184031.v2.0.SAA.tif — not enough bands.\n",
      "⚠️ Skipping HLS.S30.T11SKA.2025085T184031.v2.0.SZA.tif — not enough bands.\n",
      "⚠️ Skipping HLS.S30.T11SKA.2025085T184031.v2.0.VAA.tif — not enough bands.\n",
      "⚠️ Skipping HLS.S30.T11SKA.2025085T184031.v2.0.VZA.tif — not enough bands.\n",
      "⚠️ Skipping HLS.S30.T11SKB.2025085T184031.v2.0.B01.tif — not enough bands.\n"
     ]
    },
    {
     "name": "stderr",
     "output_type": "stream",
     "text": [
      "Processing files:  52%|█████▏    | 382/738 [00:17<00:18, 18.82it/s]"
     ]
    },
    {
     "name": "stdout",
     "output_type": "stream",
     "text": [
      "⚠️ Skipping HLS.S30.T11SKB.2025085T184031.v2.0.B02.tif — not enough bands.\n",
      "⚠️ Skipping HLS.S30.T11SKB.2025085T184031.v2.0.B03.tif — not enough bands.\n",
      "⚠️ Skipping HLS.S30.T11SKB.2025085T184031.v2.0.B04.tif — not enough bands.\n",
      "⚠️ Skipping HLS.S30.T11SKB.2025085T184031.v2.0.B05.tif — not enough bands.\n"
     ]
    },
    {
     "name": "stderr",
     "output_type": "stream",
     "text": [
      "Processing files:  53%|█████▎    | 388/738 [00:17<00:17, 20.22it/s]"
     ]
    },
    {
     "name": "stdout",
     "output_type": "stream",
     "text": [
      "⚠️ Skipping HLS.S30.T11SKB.2025085T184031.v2.0.B06.tif — not enough bands.\n",
      "⚠️ Skipping HLS.S30.T11SKB.2025085T184031.v2.0.B07.tif — not enough bands.\n",
      "⚠️ Skipping HLS.S30.T11SKB.2025085T184031.v2.0.B08.tif — not enough bands.\n",
      "⚠️ Skipping HLS.S30.T11SKB.2025085T184031.v2.0.B09.tif — not enough bands.\n",
      "⚠️ Skipping HLS.S30.T11SKB.2025085T184031.v2.0.B10.tif — not enough bands.\n",
      "⚠️ Skipping HLS.S30.T11SKB.2025085T184031.v2.0.B11.tif — not enough bands.\n"
     ]
    },
    {
     "name": "stderr",
     "output_type": "stream",
     "text": [
      "Processing files:  53%|█████▎    | 394/738 [00:18<00:15, 21.78it/s]"
     ]
    },
    {
     "name": "stdout",
     "output_type": "stream",
     "text": [
      "⚠️ Skipping HLS.S30.T11SKB.2025085T184031.v2.0.B12.tif — not enough bands.\n",
      "⚠️ Skipping HLS.S30.T11SKB.2025085T184031.v2.0.B8A.tif — not enough bands.\n",
      "⚠️ Skipping HLS.S30.T11SKB.2025085T184031.v2.0.Fmask.tif — not enough bands.\n",
      "⚠️ Skipping HLS.S30.T11SKB.2025085T184031.v2.0.SAA.tif — not enough bands.\n",
      "⚠️ Skipping HLS.S30.T11SKB.2025085T184031.v2.0.SZA.tif — not enough bands.\n",
      "⚠️ Skipping HLS.S30.T11SKB.2025085T184031.v2.0.VAA.tif — not enough bands.\n"
     ]
    },
    {
     "name": "stderr",
     "output_type": "stream",
     "text": [
      "Processing files:  54%|█████▍    | 400/738 [00:18<00:14, 22.78it/s]"
     ]
    },
    {
     "name": "stdout",
     "output_type": "stream",
     "text": [
      "⚠️ Skipping HLS.S30.T11SKB.2025085T184031.v2.0.VZA.tif — not enough bands.\n",
      "⚠️ Skipping HLS.S30.T11SKB.2025088T185021.v2.0.B01.tif — not enough bands.\n",
      "⚠️ Skipping HLS.S30.T11SKB.2025088T185021.v2.0.B02.tif — not enough bands.\n",
      "⚠️ Skipping HLS.S30.T11SKB.2025088T185021.v2.0.B03.tif — not enough bands.\n",
      "⚠️ Skipping HLS.S30.T11SKB.2025088T185021.v2.0.B04.tif — not enough bands.\n",
      "⚠️ Skipping HLS.S30.T11SKB.2025088T185021.v2.0.B05.tif — not enough bands.\n"
     ]
    },
    {
     "name": "stderr",
     "output_type": "stream",
     "text": [
      "Processing files:  55%|█████▍    | 403/738 [00:18<00:15, 22.03it/s]"
     ]
    },
    {
     "name": "stdout",
     "output_type": "stream",
     "text": [
      "⚠️ Skipping HLS.S30.T11SKB.2025088T185021.v2.0.B06.tif — not enough bands.\n",
      "⚠️ Skipping HLS.S30.T11SKB.2025088T185021.v2.0.B07.tif — not enough bands.\n",
      "⚠️ Skipping HLS.S30.T11SKB.2025088T185021.v2.0.B08.tif — not enough bands.\n",
      "⚠️ Skipping HLS.S30.T11SKB.2025088T185021.v2.0.B09.tif — not enough bands.\n",
      "⚠️ Skipping HLS.S30.T11SKB.2025088T185021.v2.0.B10.tif — not enough bands.\n"
     ]
    },
    {
     "name": "stderr",
     "output_type": "stream",
     "text": [
      "Processing files:  55%|█████▌    | 409/738 [00:18<00:15, 20.68it/s]"
     ]
    },
    {
     "name": "stdout",
     "output_type": "stream",
     "text": [
      "⚠️ Skipping HLS.S30.T11SKB.2025088T185021.v2.0.B11.tif — not enough bands.\n",
      "⚠️ Skipping HLS.S30.T11SKB.2025088T185021.v2.0.B12.tif — not enough bands.\n",
      "⚠️ Skipping HLS.S30.T11SKB.2025088T185021.v2.0.B8A.tif — not enough bands.\n",
      "⚠️ Skipping HLS.S30.T11SKB.2025088T185021.v2.0.Fmask.tif — not enough bands.\n",
      "⚠️ Skipping HLS.S30.T11SKB.2025088T185021.v2.0.SAA.tif — not enough bands.\n",
      "⚠️ Skipping HLS.S30.T11SKB.2025088T185021.v2.0.SZA.tif — not enough bands.\n"
     ]
    },
    {
     "name": "stderr",
     "output_type": "stream",
     "text": [
      "Processing files:  57%|█████▋    | 418/738 [00:19<00:13, 23.25it/s]"
     ]
    },
    {
     "name": "stdout",
     "output_type": "stream",
     "text": [
      "⚠️ Skipping HLS.S30.T11SKB.2025088T185021.v2.0.VAA.tif — not enough bands.\n",
      "⚠️ Skipping HLS.S30.T11SKB.2025088T185021.v2.0.VZA.tif — not enough bands.\n",
      "⚠️ Skipping HLS.S30.T11SKC.2025085T184031.v2.0.B01.tif — not enough bands.\n",
      "⚠️ Skipping HLS.S30.T11SKC.2025085T184031.v2.0.B02.tif — not enough bands.\n",
      "⚠️ Skipping HLS.S30.T11SKC.2025085T184031.v2.0.B03.tif — not enough bands.\n",
      "⚠️ Skipping HLS.S30.T11SKC.2025085T184031.v2.0.B04.tif — not enough bands.\n"
     ]
    },
    {
     "name": "stderr",
     "output_type": "stream",
     "text": [
      "Processing files:  57%|█████▋    | 421/738 [00:19<00:13, 22.79it/s]"
     ]
    },
    {
     "name": "stdout",
     "output_type": "stream",
     "text": [
      "⚠️ Skipping HLS.S30.T11SKC.2025085T184031.v2.0.B05.tif — not enough bands.\n",
      "⚠️ Skipping HLS.S30.T11SKC.2025085T184031.v2.0.B06.tif — not enough bands.\n",
      "⚠️ Skipping HLS.S30.T11SKC.2025085T184031.v2.0.B07.tif — not enough bands.\n",
      "⚠️ Skipping HLS.S30.T11SKC.2025085T184031.v2.0.B08.tif — not enough bands.\n"
     ]
    },
    {
     "name": "stderr",
     "output_type": "stream",
     "text": [
      "Processing files:  57%|█████▋    | 424/738 [00:19<00:16, 18.66it/s]"
     ]
    },
    {
     "name": "stdout",
     "output_type": "stream",
     "text": [
      "⚠️ Skipping HLS.S30.T11SKC.2025085T184031.v2.0.B09.tif — not enough bands.\n",
      "⚠️ Skipping HLS.S30.T11SKC.2025085T184031.v2.0.B10.tif — not enough bands.\n",
      "⚠️ Skipping HLS.S30.T11SKC.2025085T184031.v2.0.B11.tif — not enough bands.\n"
     ]
    },
    {
     "name": "stderr",
     "output_type": "stream",
     "text": [
      "Processing files:  58%|█████▊    | 429/738 [00:19<00:17, 17.63it/s]"
     ]
    },
    {
     "name": "stdout",
     "output_type": "stream",
     "text": [
      "⚠️ Skipping HLS.S30.T11SKC.2025085T184031.v2.0.B12.tif — not enough bands.\n",
      "⚠️ Skipping HLS.S30.T11SKC.2025085T184031.v2.0.B8A.tif — not enough bands.\n",
      "⚠️ Skipping HLS.S30.T11SKC.2025085T184031.v2.0.Fmask.tif — not enough bands.\n",
      "⚠️ Skipping HLS.S30.T11SKC.2025085T184031.v2.0.SAA.tif — not enough bands.\n"
     ]
    },
    {
     "name": "stderr",
     "output_type": "stream",
     "text": [
      "Processing files:  59%|█████▊    | 433/738 [00:20<00:17, 17.82it/s]"
     ]
    },
    {
     "name": "stdout",
     "output_type": "stream",
     "text": [
      "⚠️ Skipping HLS.S30.T11SKC.2025085T184031.v2.0.SZA.tif — not enough bands.\n",
      "⚠️ Skipping HLS.S30.T11SKC.2025085T184031.v2.0.VAA.tif — not enough bands.\n",
      "⚠️ Skipping HLS.S30.T11SKC.2025085T184031.v2.0.VZA.tif — not enough bands.\n",
      "⚠️ Skipping HLS.S30.T11SKC.2025088T185021.v2.0.B01.tif — not enough bands.\n",
      "⚠️ Skipping HLS.S30.T11SKC.2025088T185021.v2.0.B02.tif — not enough bands.\n"
     ]
    },
    {
     "name": "stderr",
     "output_type": "stream",
     "text": [
      "Processing files:  59%|█████▉    | 438/738 [00:20<00:15, 18.99it/s]"
     ]
    },
    {
     "name": "stdout",
     "output_type": "stream",
     "text": [
      "⚠️ Skipping HLS.S30.T11SKC.2025088T185021.v2.0.B03.tif — not enough bands.\n",
      "⚠️ Skipping HLS.S30.T11SKC.2025088T185021.v2.0.B04.tif — not enough bands.\n",
      "⚠️ Skipping HLS.S30.T11SKC.2025088T185021.v2.0.B05.tif — not enough bands.\n",
      "⚠️ Skipping HLS.S30.T11SKC.2025088T185021.v2.0.B06.tif — not enough bands.\n",
      "⚠️ Skipping HLS.S30.T11SKC.2025088T185021.v2.0.B07.tif — not enough bands.\n"
     ]
    },
    {
     "name": "stderr",
     "output_type": "stream",
     "text": [
      "Processing files:  60%|█████▉    | 442/738 [00:20<00:16, 18.36it/s]"
     ]
    },
    {
     "name": "stdout",
     "output_type": "stream",
     "text": [
      "⚠️ Skipping HLS.S30.T11SKC.2025088T185021.v2.0.B08.tif — not enough bands.\n",
      "⚠️ Skipping HLS.S30.T11SKC.2025088T185021.v2.0.B09.tif — not enough bands.\n",
      "⚠️ Skipping HLS.S30.T11SKC.2025088T185021.v2.0.B10.tif — not enough bands.\n",
      "⚠️ Skipping HLS.S30.T11SKC.2025088T185021.v2.0.B11.tif — not enough bands.\n",
      "⚠️ Skipping HLS.S30.T11SKC.2025088T185021.v2.0.B12.tif — not enough bands.\n"
     ]
    },
    {
     "name": "stderr",
     "output_type": "stream",
     "text": [
      "Processing files:  61%|██████    | 447/738 [00:20<00:16, 17.80it/s]"
     ]
    },
    {
     "name": "stdout",
     "output_type": "stream",
     "text": [
      "⚠️ Skipping HLS.S30.T11SKC.2025088T185021.v2.0.B8A.tif — not enough bands.\n",
      "⚠️ Skipping HLS.S30.T11SKC.2025088T185021.v2.0.Fmask.tif — not enough bands.\n",
      "⚠️ Skipping HLS.S30.T11SKC.2025088T185021.v2.0.SAA.tif — not enough bands.\n",
      "⚠️ Skipping HLS.S30.T11SKC.2025088T185021.v2.0.SZA.tif — not enough bands.\n",
      "⚠️ Skipping HLS.S30.T11SKC.2025088T185021.v2.0.VAA.tif — not enough bands.\n"
     ]
    },
    {
     "name": "stderr",
     "output_type": "stream",
     "text": [
      "Processing files:  61%|██████    | 452/738 [00:21<00:16, 16.94it/s]"
     ]
    },
    {
     "name": "stdout",
     "output_type": "stream",
     "text": [
      "⚠️ Skipping HLS.S30.T11SKC.2025088T185021.v2.0.VZA.tif — not enough bands.\n",
      "⚠️ Skipping HLS.S30.T11SKD.2025085T184031.v2.0.B01.tif — not enough bands.\n",
      "⚠️ Skipping HLS.S30.T11SKD.2025085T184031.v2.0.B02.tif — not enough bands.\n",
      "⚠️ Skipping HLS.S30.T11SKD.2025085T184031.v2.0.B03.tif — not enough bands.\n"
     ]
    },
    {
     "name": "stderr",
     "output_type": "stream",
     "text": [
      "Processing files:  62%|██████▏   | 456/738 [00:21<00:17, 16.35it/s]"
     ]
    },
    {
     "name": "stdout",
     "output_type": "stream",
     "text": [
      "⚠️ Skipping HLS.S30.T11SKD.2025085T184031.v2.0.B04.tif — not enough bands.\n",
      "⚠️ Skipping HLS.S30.T11SKD.2025085T184031.v2.0.B05.tif — not enough bands.\n",
      "⚠️ Skipping HLS.S30.T11SKD.2025085T184031.v2.0.B06.tif — not enough bands.\n",
      "⚠️ Skipping HLS.S30.T11SKD.2025085T184031.v2.0.B07.tif — not enough bands.\n",
      "⚠️ Skipping HLS.S30.T11SKD.2025085T184031.v2.0.B08.tif — not enough bands.\n"
     ]
    },
    {
     "name": "stderr",
     "output_type": "stream",
     "text": [
      "Processing files:  62%|██████▏   | 461/738 [00:21<00:15, 17.87it/s]"
     ]
    },
    {
     "name": "stdout",
     "output_type": "stream",
     "text": [
      "⚠️ Skipping HLS.S30.T11SKD.2025085T184031.v2.0.B09.tif — not enough bands.\n",
      "⚠️ Skipping HLS.S30.T11SKD.2025085T184031.v2.0.B10.tif — not enough bands.\n",
      "⚠️ Skipping HLS.S30.T11SKD.2025085T184031.v2.0.B11.tif — not enough bands.\n",
      "⚠️ Skipping HLS.S30.T11SKD.2025085T184031.v2.0.B12.tif — not enough bands.\n",
      "⚠️ Skipping HLS.S30.T11SKD.2025085T184031.v2.0.B8A.tif — not enough bands.\n"
     ]
    },
    {
     "name": "stderr",
     "output_type": "stream",
     "text": [
      "Processing files:  63%|██████▎   | 466/738 [00:22<00:15, 18.06it/s]"
     ]
    },
    {
     "name": "stdout",
     "output_type": "stream",
     "text": [
      "⚠️ Skipping HLS.S30.T11SKD.2025085T184031.v2.0.Fmask.tif — not enough bands.\n",
      "⚠️ Skipping HLS.S30.T11SKD.2025085T184031.v2.0.SAA.tif — not enough bands.\n",
      "⚠️ Skipping HLS.S30.T11SKD.2025085T184031.v2.0.SZA.tif — not enough bands.\n",
      "⚠️ Skipping HLS.S30.T11SKD.2025085T184031.v2.0.VAA.tif — not enough bands.\n"
     ]
    },
    {
     "name": "stderr",
     "output_type": "stream",
     "text": [
      "Processing files:  64%|██████▎   | 470/738 [00:22<00:15, 17.59it/s]"
     ]
    },
    {
     "name": "stdout",
     "output_type": "stream",
     "text": [
      "⚠️ Skipping HLS.S30.T11SKD.2025085T184031.v2.0.VZA.tif — not enough bands.\n",
      "⚠️ Skipping HLS.S30.T11SKD.2025088T185021.v2.0.B01.tif — not enough bands.\n",
      "⚠️ Skipping HLS.S30.T11SKD.2025088T185021.v2.0.B02.tif — not enough bands.\n",
      "⚠️ Skipping HLS.S30.T11SKD.2025088T185021.v2.0.B03.tif — not enough bands.\n"
     ]
    },
    {
     "name": "stderr",
     "output_type": "stream",
     "text": [
      "Processing files:  64%|██████▍   | 474/738 [00:22<00:14, 17.82it/s]"
     ]
    },
    {
     "name": "stdout",
     "output_type": "stream",
     "text": [
      "⚠️ Skipping HLS.S30.T11SKD.2025088T185021.v2.0.B04.tif — not enough bands.\n",
      "⚠️ Skipping HLS.S30.T11SKD.2025088T185021.v2.0.B05.tif — not enough bands.\n",
      "⚠️ Skipping HLS.S30.T11SKD.2025088T185021.v2.0.B06.tif — not enough bands.\n",
      "⚠️ Skipping HLS.S30.T11SKD.2025088T185021.v2.0.B07.tif — not enough bands.\n"
     ]
    },
    {
     "name": "stderr",
     "output_type": "stream",
     "text": [
      "Processing files:  65%|██████▍   | 478/738 [00:22<00:14, 17.53it/s]"
     ]
    },
    {
     "name": "stdout",
     "output_type": "stream",
     "text": [
      "⚠️ Skipping HLS.S30.T11SKD.2025088T185021.v2.0.B08.tif — not enough bands.\n",
      "⚠️ Skipping HLS.S30.T11SKD.2025088T185021.v2.0.B09.tif — not enough bands.\n",
      "⚠️ Skipping HLS.S30.T11SKD.2025088T185021.v2.0.B10.tif — not enough bands.\n",
      "⚠️ Skipping HLS.S30.T11SKD.2025088T185021.v2.0.B11.tif — not enough bands.\n",
      "⚠️ Skipping HLS.S30.T11SKD.2025088T185021.v2.0.B12.tif — not enough bands.\n"
     ]
    },
    {
     "name": "stderr",
     "output_type": "stream",
     "text": [
      "Processing files:  65%|██████▌   | 481/738 [00:22<00:14, 18.22it/s]"
     ]
    },
    {
     "name": "stdout",
     "output_type": "stream",
     "text": [
      "⚠️ Skipping HLS.S30.T11SKD.2025088T185021.v2.0.B8A.tif — not enough bands.\n",
      "⚠️ Skipping HLS.S30.T11SKD.2025088T185021.v2.0.Fmask.tif — not enough bands.\n"
     ]
    },
    {
     "name": "stderr",
     "output_type": "stream",
     "text": [
      "Processing files:  66%|██████▌   | 485/738 [00:23<00:17, 14.30it/s]"
     ]
    },
    {
     "name": "stdout",
     "output_type": "stream",
     "text": [
      "⚠️ Skipping HLS.S30.T11SKD.2025088T185021.v2.0.SAA.tif — not enough bands.\n",
      "⚠️ Skipping HLS.S30.T11SKD.2025088T185021.v2.0.SZA.tif — not enough bands.\n",
      "⚠️ Skipping HLS.S30.T11SKD.2025088T185021.v2.0.VAA.tif — not enough bands.\n",
      "⚠️ Skipping HLS.S30.T11SKD.2025088T185021.v2.0.VZA.tif — not enough bands.\n"
     ]
    },
    {
     "name": "stderr",
     "output_type": "stream",
     "text": [
      "Processing files:  66%|██████▋   | 489/738 [00:23<00:15, 15.70it/s]"
     ]
    },
    {
     "name": "stdout",
     "output_type": "stream",
     "text": [
      "⚠️ Skipping HLS.S30.T11SKT.2025087T182919.v2.0.B01.tif — not enough bands.\n",
      "⚠️ Skipping HLS.S30.T11SKT.2025087T182919.v2.0.B02.tif — not enough bands.\n",
      "⚠️ Skipping HLS.S30.T11SKT.2025087T182919.v2.0.B03.tif — not enough bands.\n",
      "⚠️ Skipping HLS.S30.T11SKT.2025087T182919.v2.0.B04.tif — not enough bands.\n",
      "⚠️ Skipping HLS.S30.T11SKT.2025087T182919.v2.0.B05.tif — not enough bands.\n"
     ]
    },
    {
     "name": "stderr",
     "output_type": "stream",
     "text": [
      "Processing files:  67%|██████▋   | 494/738 [00:23<00:13, 17.47it/s]"
     ]
    },
    {
     "name": "stdout",
     "output_type": "stream",
     "text": [
      "⚠️ Skipping HLS.S30.T11SKT.2025087T182919.v2.0.B06.tif — not enough bands.\n",
      "⚠️ Skipping HLS.S30.T11SKT.2025087T182919.v2.0.B07.tif — not enough bands.\n",
      "⚠️ Skipping HLS.S30.T11SKT.2025087T182919.v2.0.B08.tif — not enough bands.\n",
      "⚠️ Skipping HLS.S30.T11SKT.2025087T182919.v2.0.B09.tif — not enough bands.\n",
      "⚠️ Skipping HLS.S30.T11SKT.2025087T182919.v2.0.B10.tif — not enough bands.\n"
     ]
    },
    {
     "name": "stderr",
     "output_type": "stream",
     "text": [
      "Processing files:  68%|██████▊   | 499/738 [00:23<00:13, 18.34it/s]"
     ]
    },
    {
     "name": "stdout",
     "output_type": "stream",
     "text": [
      "⚠️ Skipping HLS.S30.T11SKT.2025087T182919.v2.0.B11.tif — not enough bands.\n",
      "⚠️ Skipping HLS.S30.T11SKT.2025087T182919.v2.0.B12.tif — not enough bands.\n",
      "⚠️ Skipping HLS.S30.T11SKT.2025087T182919.v2.0.B8A.tif — not enough bands.\n",
      "⚠️ Skipping HLS.S30.T11SKT.2025087T182919.v2.0.Fmask.tif — not enough bands.\n",
      "⚠️ Skipping HLS.S30.T11SKT.2025087T182919.v2.0.SAA.tif — not enough bands.\n"
     ]
    },
    {
     "name": "stderr",
     "output_type": "stream",
     "text": [
      "Processing files:  68%|██████▊   | 505/738 [00:24<00:11, 20.22it/s]"
     ]
    },
    {
     "name": "stdout",
     "output_type": "stream",
     "text": [
      "⚠️ Skipping HLS.S30.T11SKT.2025087T182919.v2.0.SZA.tif — not enough bands.\n",
      "⚠️ Skipping HLS.S30.T11SKT.2025087T182919.v2.0.VAA.tif — not enough bands.\n",
      "⚠️ Skipping HLS.S30.T11SKT.2025087T182919.v2.0.VZA.tif — not enough bands.\n",
      "⚠️ Skipping HLS.S30.T11SKT.2025087T184821.v2.0.B01.tif — not enough bands.\n",
      "⚠️ Skipping HLS.S30.T11SKT.2025087T184821.v2.0.B02.tif — not enough bands.\n",
      "⚠️ Skipping HLS.S30.T11SKT.2025087T184821.v2.0.B03.tif — not enough bands.\n"
     ]
    },
    {
     "name": "stderr",
     "output_type": "stream",
     "text": [
      "Processing files:  69%|██████▉   | 511/738 [00:24<00:11, 20.09it/s]"
     ]
    },
    {
     "name": "stdout",
     "output_type": "stream",
     "text": [
      "⚠️ Skipping HLS.S30.T11SKT.2025087T184821.v2.0.B04.tif — not enough bands.\n",
      "⚠️ Skipping HLS.S30.T11SKT.2025087T184821.v2.0.B05.tif — not enough bands.\n",
      "⚠️ Skipping HLS.S30.T11SKT.2025087T184821.v2.0.B06.tif — not enough bands.\n",
      "⚠️ Skipping HLS.S30.T11SKT.2025087T184821.v2.0.B07.tif — not enough bands.\n",
      "⚠️ Skipping HLS.S30.T11SKT.2025087T184821.v2.0.B08.tif — not enough bands.\n"
     ]
    },
    {
     "name": "stderr",
     "output_type": "stream",
     "text": [
      "Processing files:  70%|██████▉   | 514/738 [00:24<00:11, 19.24it/s]"
     ]
    },
    {
     "name": "stdout",
     "output_type": "stream",
     "text": [
      "⚠️ Skipping HLS.S30.T11SKT.2025087T184821.v2.0.B09.tif — not enough bands.\n",
      "⚠️ Skipping HLS.S30.T11SKT.2025087T184821.v2.0.B10.tif — not enough bands.\n",
      "⚠️ Skipping HLS.S30.T11SKT.2025087T184821.v2.0.B11.tif — not enough bands.\n"
     ]
    },
    {
     "name": "stderr",
     "output_type": "stream",
     "text": [
      "Processing files:  70%|███████   | 518/738 [00:25<00:13, 16.45it/s]"
     ]
    },
    {
     "name": "stdout",
     "output_type": "stream",
     "text": [
      "⚠️ Skipping HLS.S30.T11SKT.2025087T184821.v2.0.B12.tif — not enough bands.\n",
      "⚠️ Skipping HLS.S30.T11SKT.2025087T184821.v2.0.B8A.tif — not enough bands.\n",
      "⚠️ Skipping HLS.S30.T11SKT.2025087T184821.v2.0.Fmask.tif — not enough bands.\n",
      "⚠️ Skipping HLS.S30.T11SKT.2025087T184821.v2.0.SAA.tif — not enough bands.\n"
     ]
    },
    {
     "name": "stderr",
     "output_type": "stream",
     "text": [
      "Processing files:  71%|███████   | 522/738 [00:25<00:12, 17.35it/s]"
     ]
    },
    {
     "name": "stdout",
     "output_type": "stream",
     "text": [
      "⚠️ Skipping HLS.S30.T11SKT.2025087T184821.v2.0.SZA.tif — not enough bands.\n",
      "⚠️ Skipping HLS.S30.T11SKT.2025087T184821.v2.0.VAA.tif — not enough bands.\n",
      "⚠️ Skipping HLS.S30.T11SKT.2025087T184821.v2.0.VZA.tif — not enough bands.\n",
      "⚠️ Skipping HLS.S30.T11SKV.2025085T184031.v2.0.B01.tif — not enough bands.\n",
      "⚠️ Skipping HLS.S30.T11SKV.2025085T184031.v2.0.B02.tif — not enough bands.\n"
     ]
    },
    {
     "name": "stderr",
     "output_type": "stream",
     "text": [
      "Processing files:  72%|███████▏  | 528/738 [00:25<00:11, 17.98it/s]"
     ]
    },
    {
     "name": "stdout",
     "output_type": "stream",
     "text": [
      "⚠️ Skipping HLS.S30.T11SKV.2025085T184031.v2.0.B03.tif — not enough bands.\n",
      "⚠️ Skipping HLS.S30.T11SKV.2025085T184031.v2.0.B04.tif — not enough bands.\n",
      "⚠️ Skipping HLS.S30.T11SKV.2025085T184031.v2.0.B05.tif — not enough bands.\n",
      "⚠️ Skipping HLS.S30.T11SKV.2025085T184031.v2.0.B06.tif — not enough bands.\n",
      "⚠️ Skipping HLS.S30.T11SKV.2025085T184031.v2.0.B07.tif — not enough bands.\n"
     ]
    },
    {
     "name": "stderr",
     "output_type": "stream",
     "text": [
      "Processing files:  72%|███████▏  | 532/738 [00:25<00:12, 15.92it/s]"
     ]
    },
    {
     "name": "stdout",
     "output_type": "stream",
     "text": [
      "⚠️ Skipping HLS.S30.T11SKV.2025085T184031.v2.0.B08.tif — not enough bands.\n",
      "⚠️ Skipping HLS.S30.T11SKV.2025085T184031.v2.0.B09.tif — not enough bands.\n",
      "⚠️ Skipping HLS.S30.T11SKV.2025085T184031.v2.0.B10.tif — not enough bands.\n",
      "⚠️ Skipping HLS.S30.T11SKV.2025085T184031.v2.0.B11.tif — not enough bands.\n"
     ]
    },
    {
     "name": "stderr",
     "output_type": "stream",
     "text": [
      "Processing files:  73%|███████▎  | 536/738 [00:26<00:12, 16.51it/s]"
     ]
    },
    {
     "name": "stdout",
     "output_type": "stream",
     "text": [
      "⚠️ Skipping HLS.S30.T11SKV.2025085T184031.v2.0.B12.tif — not enough bands.\n",
      "⚠️ Skipping HLS.S30.T11SKV.2025085T184031.v2.0.B8A.tif — not enough bands.\n",
      "⚠️ Skipping HLS.S30.T11SKV.2025085T184031.v2.0.Fmask.tif — not enough bands.\n",
      "⚠️ Skipping HLS.S30.T11SKV.2025085T184031.v2.0.SAA.tif — not enough bands.\n",
      "⚠️ Skipping HLS.S30.T11SKV.2025085T184031.v2.0.SZA.tif — not enough bands.\n"
     ]
    },
    {
     "name": "stderr",
     "output_type": "stream",
     "text": [
      "Processing files:  73%|███████▎  | 541/738 [00:26<00:10, 18.64it/s]"
     ]
    },
    {
     "name": "stdout",
     "output_type": "stream",
     "text": [
      "⚠️ Skipping HLS.S30.T11SKV.2025085T184031.v2.0.VAA.tif — not enough bands.\n",
      "⚠️ Skipping HLS.S30.T11SKV.2025085T184031.v2.0.VZA.tif — not enough bands.\n",
      "⚠️ Skipping HLS.S30.T11SLA.2025085T184031.v2.0.B01.tif — not enough bands.\n",
      "⚠️ Skipping HLS.S30.T11SLA.2025085T184031.v2.0.B02.tif — not enough bands.\n",
      "⚠️ Skipping HLS.S30.T11SLA.2025085T184031.v2.0.B03.tif — not enough bands.\n"
     ]
    },
    {
     "name": "stderr",
     "output_type": "stream",
     "text": [
      "Processing files:  74%|███████▍  | 547/738 [00:26<00:09, 20.70it/s]"
     ]
    },
    {
     "name": "stdout",
     "output_type": "stream",
     "text": [
      "⚠️ Skipping HLS.S30.T11SLA.2025085T184031.v2.0.B04.tif — not enough bands.\n",
      "⚠️ Skipping HLS.S30.T11SLA.2025085T184031.v2.0.B05.tif — not enough bands.\n",
      "⚠️ Skipping HLS.S30.T11SLA.2025085T184031.v2.0.B06.tif — not enough bands.\n",
      "⚠️ Skipping HLS.S30.T11SLA.2025085T184031.v2.0.B07.tif — not enough bands.\n",
      "⚠️ Skipping HLS.S30.T11SLA.2025085T184031.v2.0.B08.tif — not enough bands.\n"
     ]
    },
    {
     "name": "stderr",
     "output_type": "stream",
     "text": [
      "Processing files:  75%|███████▍  | 550/738 [00:26<00:10, 18.08it/s]"
     ]
    },
    {
     "name": "stdout",
     "output_type": "stream",
     "text": [
      "⚠️ Skipping HLS.S30.T11SLA.2025085T184031.v2.0.B09.tif — not enough bands.\n",
      "⚠️ Skipping HLS.S30.T11SLA.2025085T184031.v2.0.B10.tif — not enough bands.\n",
      "⚠️ Skipping HLS.S30.T11SLA.2025085T184031.v2.0.B11.tif — not enough bands.\n",
      "⚠️ Skipping HLS.S30.T11SLA.2025085T184031.v2.0.B12.tif — not enough bands.\n"
     ]
    },
    {
     "name": "stderr",
     "output_type": "stream",
     "text": [
      "Processing files:  75%|███████▌  | 555/738 [00:27<00:10, 17.65it/s]"
     ]
    },
    {
     "name": "stdout",
     "output_type": "stream",
     "text": [
      "⚠️ Skipping HLS.S30.T11SLA.2025085T184031.v2.0.B8A.tif — not enough bands.\n",
      "⚠️ Skipping HLS.S30.T11SLA.2025085T184031.v2.0.Fmask.tif — not enough bands.\n",
      "⚠️ Skipping HLS.S30.T11SLA.2025085T184031.v2.0.SAA.tif — not enough bands.\n",
      "⚠️ Skipping HLS.S30.T11SLA.2025085T184031.v2.0.SZA.tif — not enough bands.\n",
      "⚠️ Skipping HLS.S30.T11SLA.2025085T184031.v2.0.VAA.tif — not enough bands.\n"
     ]
    },
    {
     "name": "stderr",
     "output_type": "stream",
     "text": [
      "Processing files:  76%|███████▌  | 560/738 [00:27<00:09, 18.27it/s]"
     ]
    },
    {
     "name": "stdout",
     "output_type": "stream",
     "text": [
      "⚠️ Skipping HLS.S30.T11SLA.2025085T184031.v2.0.VZA.tif — not enough bands.\n",
      "⚠️ Skipping HLS.S30.T11SLB.2025085T184031.v2.0.B01.tif — not enough bands.\n",
      "⚠️ Skipping HLS.S30.T11SLB.2025085T184031.v2.0.B02.tif — not enough bands.\n",
      "⚠️ Skipping HLS.S30.T11SLB.2025085T184031.v2.0.B03.tif — not enough bands.\n",
      "⚠️ Skipping HLS.S30.T11SLB.2025085T184031.v2.0.B04.tif — not enough bands.\n"
     ]
    },
    {
     "name": "stderr",
     "output_type": "stream",
     "text": [
      "Processing files:  77%|███████▋  | 565/738 [00:27<00:09, 18.31it/s]"
     ]
    },
    {
     "name": "stdout",
     "output_type": "stream",
     "text": [
      "⚠️ Skipping HLS.S30.T11SLB.2025085T184031.v2.0.B05.tif — not enough bands.\n",
      "⚠️ Skipping HLS.S30.T11SLB.2025085T184031.v2.0.B06.tif — not enough bands.\n",
      "⚠️ Skipping HLS.S30.T11SLB.2025085T184031.v2.0.B07.tif — not enough bands.\n",
      "⚠️ Skipping HLS.S30.T11SLB.2025085T184031.v2.0.B08.tif — not enough bands.\n",
      "⚠️ Skipping HLS.S30.T11SLB.2025085T184031.v2.0.B09.tif — not enough bands.\n"
     ]
    },
    {
     "name": "stderr",
     "output_type": "stream",
     "text": [
      "Processing files:  78%|███████▊  | 573/738 [00:27<00:07, 21.12it/s]"
     ]
    },
    {
     "name": "stdout",
     "output_type": "stream",
     "text": [
      "⚠️ Skipping HLS.S30.T11SLB.2025085T184031.v2.0.B10.tif — not enough bands.\n",
      "⚠️ Skipping HLS.S30.T11SLB.2025085T184031.v2.0.B11.tif — not enough bands.\n",
      "⚠️ Skipping HLS.S30.T11SLB.2025085T184031.v2.0.B12.tif — not enough bands.\n",
      "⚠️ Skipping HLS.S30.T11SLB.2025085T184031.v2.0.B8A.tif — not enough bands.\n",
      "⚠️ Skipping HLS.S30.T11SLB.2025085T184031.v2.0.Fmask.tif — not enough bands.\n",
      "⚠️ Skipping HLS.S30.T11SLB.2025085T184031.v2.0.SAA.tif — not enough bands.\n"
     ]
    },
    {
     "name": "stderr",
     "output_type": "stream",
     "text": [
      "Processing files:  78%|███████▊  | 576/738 [00:28<00:07, 21.34it/s]"
     ]
    },
    {
     "name": "stdout",
     "output_type": "stream",
     "text": [
      "⚠️ Skipping HLS.S30.T11SLB.2025085T184031.v2.0.SZA.tif — not enough bands.\n",
      "⚠️ Skipping HLS.S30.T11SLB.2025085T184031.v2.0.VAA.tif — not enough bands.\n",
      "⚠️ Skipping HLS.S30.T11SLB.2025085T184031.v2.0.VZA.tif — not enough bands.\n",
      "⚠️ Skipping HLS.S30.T11SLC.2025085T184031.v2.0.B01.tif — not enough bands.\n",
      "⚠️ Skipping HLS.S30.T11SLC.2025085T184031.v2.0.B02.tif — not enough bands.\n",
      "⚠️ Skipping HLS.S30.T11SLC.2025085T184031.v2.0.B03.tif — not enough bands.\n"
     ]
    },
    {
     "name": "stderr",
     "output_type": "stream",
     "text": [
      "Processing files:  79%|███████▉  | 582/738 [00:28<00:08, 18.75it/s]"
     ]
    },
    {
     "name": "stdout",
     "output_type": "stream",
     "text": [
      "⚠️ Skipping HLS.S30.T11SLC.2025085T184031.v2.0.B04.tif — not enough bands.\n",
      "⚠️ Skipping HLS.S30.T11SLC.2025085T184031.v2.0.B05.tif — not enough bands.\n",
      "⚠️ Skipping HLS.S30.T11SLC.2025085T184031.v2.0.B06.tif — not enough bands.\n",
      "⚠️ Skipping HLS.S30.T11SLC.2025085T184031.v2.0.B07.tif — not enough bands.\n"
     ]
    },
    {
     "name": "stderr",
     "output_type": "stream",
     "text": [
      "Processing files:  79%|███████▉  | 586/738 [00:28<00:08, 18.59it/s]"
     ]
    },
    {
     "name": "stdout",
     "output_type": "stream",
     "text": [
      "⚠️ Skipping HLS.S30.T11SLC.2025085T184031.v2.0.B08.tif — not enough bands.\n",
      "⚠️ Skipping HLS.S30.T11SLC.2025085T184031.v2.0.B09.tif — not enough bands.\n",
      "⚠️ Skipping HLS.S30.T11SLC.2025085T184031.v2.0.B10.tif — not enough bands.\n",
      "⚠️ Skipping HLS.S30.T11SLC.2025085T184031.v2.0.B11.tif — not enough bands.\n",
      "⚠️ Skipping HLS.S30.T11SLC.2025085T184031.v2.0.B12.tif — not enough bands.\n"
     ]
    },
    {
     "name": "stderr",
     "output_type": "stream",
     "text": [
      "Processing files:  80%|████████  | 591/738 [00:28<00:07, 18.42it/s]"
     ]
    },
    {
     "name": "stdout",
     "output_type": "stream",
     "text": [
      "⚠️ Skipping HLS.S30.T11SLC.2025085T184031.v2.0.B8A.tif — not enough bands.\n",
      "⚠️ Skipping HLS.S30.T11SLC.2025085T184031.v2.0.Fmask.tif — not enough bands.\n",
      "⚠️ Skipping HLS.S30.T11SLC.2025085T184031.v2.0.SAA.tif — not enough bands.\n",
      "⚠️ Skipping HLS.S30.T11SLC.2025085T184031.v2.0.SZA.tif — not enough bands.\n"
     ]
    },
    {
     "name": "stderr",
     "output_type": "stream",
     "text": [
      "Processing files:  81%|████████  | 595/738 [00:29<00:07, 18.94it/s]"
     ]
    },
    {
     "name": "stdout",
     "output_type": "stream",
     "text": [
      "⚠️ Skipping HLS.S30.T11SLC.2025085T184031.v2.0.VAA.tif — not enough bands.\n",
      "⚠️ Skipping HLS.S30.T11SLC.2025085T184031.v2.0.VZA.tif — not enough bands.\n",
      "⚠️ Skipping HLS.S30.T11SLV.2025085T184031.v2.0.B01.tif — not enough bands.\n",
      "⚠️ Skipping HLS.S30.T11SLV.2025085T184031.v2.0.B02.tif — not enough bands.\n",
      "⚠️ Skipping HLS.S30.T11SLV.2025085T184031.v2.0.B03.tif — not enough bands.\n"
     ]
    },
    {
     "name": "stderr",
     "output_type": "stream",
     "text": [
      "Processing files:  81%|████████▏ | 601/738 [00:29<00:06, 20.52it/s]"
     ]
    },
    {
     "name": "stdout",
     "output_type": "stream",
     "text": [
      "⚠️ Skipping HLS.S30.T11SLV.2025085T184031.v2.0.B04.tif — not enough bands.\n",
      "⚠️ Skipping HLS.S30.T11SLV.2025085T184031.v2.0.B05.tif — not enough bands.\n",
      "⚠️ Skipping HLS.S30.T11SLV.2025085T184031.v2.0.B06.tif — not enough bands.\n",
      "⚠️ Skipping HLS.S30.T11SLV.2025085T184031.v2.0.B07.tif — not enough bands.\n",
      "⚠️ Skipping HLS.S30.T11SLV.2025085T184031.v2.0.B08.tif — not enough bands.\n"
     ]
    },
    {
     "name": "stderr",
     "output_type": "stream",
     "text": [
      "Processing files:  82%|████████▏ | 604/738 [00:29<00:06, 20.84it/s]"
     ]
    },
    {
     "name": "stdout",
     "output_type": "stream",
     "text": [
      "⚠️ Skipping HLS.S30.T11SLV.2025085T184031.v2.0.B09.tif — not enough bands.\n",
      "⚠️ Skipping HLS.S30.T11SLV.2025085T184031.v2.0.B10.tif — not enough bands.\n",
      "⚠️ Skipping HLS.S30.T11SLV.2025085T184031.v2.0.B11.tif — not enough bands.\n",
      "⚠️ Skipping HLS.S30.T11SLV.2025085T184031.v2.0.B12.tif — not enough bands.\n",
      "⚠️ Skipping HLS.S30.T11SLV.2025085T184031.v2.0.B8A.tif — not enough bands.\n"
     ]
    },
    {
     "name": "stderr",
     "output_type": "stream",
     "text": [
      "Processing files:  83%|████████▎ | 612/738 [00:29<00:06, 20.91it/s]"
     ]
    },
    {
     "name": "stdout",
     "output_type": "stream",
     "text": [
      "⚠️ Skipping HLS.S30.T11SLV.2025085T184031.v2.0.Fmask.tif — not enough bands.\n",
      "⚠️ Skipping HLS.S30.T11SLV.2025085T184031.v2.0.SAA.tif — not enough bands.\n",
      "⚠️ Skipping HLS.S30.T11SLV.2025085T184031.v2.0.SZA.tif — not enough bands.\n",
      "⚠️ Skipping HLS.S30.T11SLV.2025085T184031.v2.0.VAA.tif — not enough bands.\n",
      "⚠️ Skipping HLS.S30.T11SLV.2025085T184031.v2.0.VZA.tif — not enough bands.\n",
      "⚠️ Skipping HLS.S30.T11SMA.2025085T184031.v2.0.B01.tif — not enough bands.\n"
     ]
    },
    {
     "name": "stderr",
     "output_type": "stream",
     "text": [
      "Processing files:  83%|████████▎ | 615/738 [00:30<00:07, 16.39it/s]"
     ]
    },
    {
     "name": "stdout",
     "output_type": "stream",
     "text": [
      "⚠️ Skipping HLS.S30.T11SMA.2025085T184031.v2.0.B02.tif — not enough bands.\n",
      "⚠️ Skipping HLS.S30.T11SMA.2025085T184031.v2.0.B03.tif — not enough bands.\n"
     ]
    },
    {
     "name": "stderr",
     "output_type": "stream",
     "text": [
      "Processing files:  84%|████████▎ | 617/738 [00:30<00:07, 15.80it/s]"
     ]
    },
    {
     "name": "stdout",
     "output_type": "stream",
     "text": [
      "⚠️ Skipping HLS.S30.T11SMA.2025085T184031.v2.0.B04.tif — not enough bands.\n",
      "⚠️ Skipping HLS.S30.T11SMA.2025085T184031.v2.0.B05.tif — not enough bands.\n",
      "⚠️ Skipping HLS.S30.T11SMA.2025085T184031.v2.0.B06.tif — not enough bands.\n",
      "⚠️ Skipping HLS.S30.T11SMA.2025085T184031.v2.0.B07.tif — not enough bands.\n"
     ]
    },
    {
     "name": "stderr",
     "output_type": "stream",
     "text": [
      "Processing files:  85%|████████▍ | 624/738 [00:30<00:06, 17.61it/s]"
     ]
    },
    {
     "name": "stdout",
     "output_type": "stream",
     "text": [
      "⚠️ Skipping HLS.S30.T11SMA.2025085T184031.v2.0.B08.tif — not enough bands.\n",
      "⚠️ Skipping HLS.S30.T11SMA.2025085T184031.v2.0.B09.tif — not enough bands.\n",
      "⚠️ Skipping HLS.S30.T11SMA.2025085T184031.v2.0.B10.tif — not enough bands.\n",
      "⚠️ Skipping HLS.S30.T11SMA.2025085T184031.v2.0.B11.tif — not enough bands.\n",
      "⚠️ Skipping HLS.S30.T11SMA.2025085T184031.v2.0.B12.tif — not enough bands.\n"
     ]
    },
    {
     "name": "stderr",
     "output_type": "stream",
     "text": [
      "Processing files:  85%|████████▌ | 628/738 [00:30<00:06, 16.27it/s]"
     ]
    },
    {
     "name": "stdout",
     "output_type": "stream",
     "text": [
      "⚠️ Skipping HLS.S30.T11SMA.2025085T184031.v2.0.B8A.tif — not enough bands.\n",
      "⚠️ Skipping HLS.S30.T11SMA.2025085T184031.v2.0.Fmask.tif — not enough bands.\n",
      "⚠️ Skipping HLS.S30.T11SMA.2025085T184031.v2.0.SAA.tif — not enough bands.\n",
      "⚠️ Skipping HLS.S30.T11SMA.2025085T184031.v2.0.SZA.tif — not enough bands.\n"
     ]
    },
    {
     "name": "stderr",
     "output_type": "stream",
     "text": [
      "Processing files:  86%|████████▌ | 632/738 [00:31<00:06, 16.49it/s]"
     ]
    },
    {
     "name": "stdout",
     "output_type": "stream",
     "text": [
      "⚠️ Skipping HLS.S30.T11SMA.2025085T184031.v2.0.VAA.tif — not enough bands.\n",
      "⚠️ Skipping HLS.S30.T11SMA.2025085T184031.v2.0.VZA.tif — not enough bands.\n",
      "⚠️ Skipping HLS.S30.T11SMB.2025085T184031.v2.0.B01.tif — not enough bands.\n",
      "⚠️ Skipping HLS.S30.T11SMB.2025085T184031.v2.0.B02.tif — not enough bands.\n",
      "⚠️ Skipping HLS.S30.T11SMB.2025085T184031.v2.0.B03.tif — not enough bands.\n"
     ]
    },
    {
     "name": "stderr",
     "output_type": "stream",
     "text": [
      "Processing files:  86%|████████▌ | 636/738 [00:31<00:06, 15.72it/s]"
     ]
    },
    {
     "name": "stdout",
     "output_type": "stream",
     "text": [
      "⚠️ Skipping HLS.S30.T11SMB.2025085T184031.v2.0.B04.tif — not enough bands.\n",
      "⚠️ Skipping HLS.S30.T11SMB.2025085T184031.v2.0.B05.tif — not enough bands.\n",
      "⚠️ Skipping HLS.S30.T11SMB.2025085T184031.v2.0.B06.tif — not enough bands.\n",
      "⚠️ Skipping HLS.S30.T11SMB.2025085T184031.v2.0.B07.tif — not enough bands.\n"
     ]
    },
    {
     "name": "stderr",
     "output_type": "stream",
     "text": [
      "Processing files:  86%|████████▋ | 638/738 [00:31<00:06, 15.65it/s]"
     ]
    },
    {
     "name": "stdout",
     "output_type": "stream",
     "text": [
      "⚠️ Skipping HLS.S30.T11SMB.2025085T184031.v2.0.B08.tif — not enough bands.\n",
      "⚠️ Skipping HLS.S30.T11SMB.2025085T184031.v2.0.B09.tif — not enough bands.\n",
      "⚠️ Skipping HLS.S30.T11SMB.2025085T184031.v2.0.B10.tif — not enough bands.\n"
     ]
    },
    {
     "name": "stderr",
     "output_type": "stream",
     "text": [
      "Processing files:  87%|████████▋ | 644/738 [00:32<00:06, 15.48it/s]"
     ]
    },
    {
     "name": "stdout",
     "output_type": "stream",
     "text": [
      "⚠️ Skipping HLS.S30.T11SMB.2025085T184031.v2.0.B11.tif — not enough bands.\n",
      "⚠️ Skipping HLS.S30.T11SMB.2025085T184031.v2.0.B12.tif — not enough bands.\n",
      "⚠️ Skipping HLS.S30.T11SMB.2025085T184031.v2.0.B8A.tif — not enough bands.\n",
      "⚠️ Skipping HLS.S30.T11SMB.2025085T184031.v2.0.Fmask.tif — not enough bands.\n",
      "⚠️ Skipping HLS.S30.T11SMB.2025085T184031.v2.0.SAA.tif — not enough bands.\n"
     ]
    },
    {
     "name": "stderr",
     "output_type": "stream",
     "text": [
      "Processing files:  88%|████████▊ | 649/738 [00:32<00:05, 16.13it/s]"
     ]
    },
    {
     "name": "stdout",
     "output_type": "stream",
     "text": [
      "⚠️ Skipping HLS.S30.T11SMB.2025085T184031.v2.0.SZA.tif — not enough bands.\n",
      "⚠️ Skipping HLS.S30.T11SMB.2025085T184031.v2.0.VAA.tif — not enough bands.\n",
      "⚠️ Skipping HLS.S30.T11SMB.2025085T184031.v2.0.VZA.tif — not enough bands.\n",
      "⚠️ Skipping HLS.S30.T11SPS.2025088T181751.v2.0.B01.tif — not enough bands.\n"
     ]
    },
    {
     "name": "stderr",
     "output_type": "stream",
     "text": [
      "Processing files:  88%|████████▊ | 653/738 [00:32<00:05, 16.52it/s]"
     ]
    },
    {
     "name": "stdout",
     "output_type": "stream",
     "text": [
      "⚠️ Skipping HLS.S30.T11SPS.2025088T181751.v2.0.B02.tif — not enough bands.\n",
      "⚠️ Skipping HLS.S30.T11SPS.2025088T181751.v2.0.B03.tif — not enough bands.\n",
      "⚠️ Skipping HLS.S30.T11SPS.2025088T181751.v2.0.B04.tif — not enough bands.\n",
      "⚠️ Skipping HLS.S30.T11SPS.2025088T181751.v2.0.B05.tif — not enough bands.\n",
      "⚠️ Skipping HLS.S30.T11SPS.2025088T181751.v2.0.B06.tif — not enough bands.\n"
     ]
    },
    {
     "name": "stderr",
     "output_type": "stream",
     "text": [
      "Processing files:  89%|████████▉ | 659/738 [00:32<00:04, 19.55it/s]"
     ]
    },
    {
     "name": "stdout",
     "output_type": "stream",
     "text": [
      "⚠️ Skipping HLS.S30.T11SPS.2025088T181751.v2.0.B07.tif — not enough bands.\n",
      "⚠️ Skipping HLS.S30.T11SPS.2025088T181751.v2.0.B08.tif — not enough bands.\n",
      "⚠️ Skipping HLS.S30.T11SPS.2025088T181751.v2.0.B09.tif — not enough bands.\n",
      "⚠️ Skipping HLS.S30.T11SPS.2025088T181751.v2.0.B10.tif — not enough bands.\n",
      "⚠️ Skipping HLS.S30.T11SPS.2025088T181751.v2.0.B11.tif — not enough bands.\n"
     ]
    },
    {
     "name": "stderr",
     "output_type": "stream",
     "text": [
      "Processing files:  90%|████████▉ | 662/738 [00:32<00:03, 19.25it/s]"
     ]
    },
    {
     "name": "stdout",
     "output_type": "stream",
     "text": [
      "⚠️ Skipping HLS.S30.T11SPS.2025088T181751.v2.0.B12.tif — not enough bands.\n",
      "⚠️ Skipping HLS.S30.T11SPS.2025088T181751.v2.0.B8A.tif — not enough bands.\n",
      "⚠️ Skipping HLS.S30.T11SPS.2025088T181751.v2.0.Fmask.tif — not enough bands.\n",
      "⚠️ Skipping HLS.S30.T11SPS.2025088T181751.v2.0.SAA.tif — not enough bands.\n"
     ]
    },
    {
     "name": "stderr",
     "output_type": "stream",
     "text": [
      "Processing files:  90%|█████████ | 666/738 [00:33<00:04, 17.73it/s]"
     ]
    },
    {
     "name": "stdout",
     "output_type": "stream",
     "text": [
      "⚠️ Skipping HLS.S30.T11SPS.2025088T181751.v2.0.SZA.tif — not enough bands.\n",
      "⚠️ Skipping HLS.S30.T11SPS.2025088T181751.v2.0.VAA.tif — not enough bands.\n",
      "⚠️ Skipping HLS.S30.T11SPS.2025088T181751.v2.0.VZA.tif — not enough bands.\n",
      "⚠️ Skipping HLS.S30.T11SQS.2025088T181751.v2.0.B01.tif — not enough bands.\n",
      "⚠️ Skipping HLS.S30.T11SQS.2025088T181751.v2.0.B02.tif — not enough bands.\n"
     ]
    },
    {
     "name": "stderr",
     "output_type": "stream",
     "text": [
      "Processing files:  91%|█████████ | 671/738 [00:33<00:03, 18.82it/s]"
     ]
    },
    {
     "name": "stdout",
     "output_type": "stream",
     "text": [
      "⚠️ Skipping HLS.S30.T11SQS.2025088T181751.v2.0.B03.tif — not enough bands.\n",
      "⚠️ Skipping HLS.S30.T11SQS.2025088T181751.v2.0.B04.tif — not enough bands.\n",
      "⚠️ Skipping HLS.S30.T11SQS.2025088T181751.v2.0.B05.tif — not enough bands.\n",
      "⚠️ Skipping HLS.S30.T11SQS.2025088T181751.v2.0.B06.tif — not enough bands.\n"
     ]
    },
    {
     "name": "stderr",
     "output_type": "stream",
     "text": [
      "Processing files:  91%|█████████▏| 675/738 [00:33<00:03, 16.66it/s]"
     ]
    },
    {
     "name": "stdout",
     "output_type": "stream",
     "text": [
      "⚠️ Skipping HLS.S30.T11SQS.2025088T181751.v2.0.B07.tif — not enough bands.\n",
      "⚠️ Skipping HLS.S30.T11SQS.2025088T181751.v2.0.B08.tif — not enough bands.\n",
      "⚠️ Skipping HLS.S30.T11SQS.2025088T181751.v2.0.B09.tif — not enough bands.\n",
      "⚠️ Skipping HLS.S30.T11SQS.2025088T181751.v2.0.B10.tif — not enough bands.\n"
     ]
    },
    {
     "name": "stderr",
     "output_type": "stream",
     "text": [
      "Processing files:  92%|█████████▏| 679/738 [00:34<00:04, 13.67it/s]"
     ]
    },
    {
     "name": "stdout",
     "output_type": "stream",
     "text": [
      "⚠️ Skipping HLS.S30.T11SQS.2025088T181751.v2.0.B11.tif — not enough bands.\n",
      "⚠️ Skipping HLS.S30.T11SQS.2025088T181751.v2.0.B12.tif — not enough bands.\n",
      "⚠️ Skipping HLS.S30.T11SQS.2025088T181751.v2.0.B8A.tif — not enough bands.\n",
      "⚠️ Skipping HLS.S30.T11SQS.2025088T181751.v2.0.Fmask.tif — not enough bands.\n"
     ]
    },
    {
     "name": "stderr",
     "output_type": "stream",
     "text": [
      "Processing files:  93%|█████████▎| 683/738 [00:34<00:04, 13.50it/s]"
     ]
    },
    {
     "name": "stdout",
     "output_type": "stream",
     "text": [
      "⚠️ Skipping HLS.S30.T11SQS.2025088T181751.v2.0.SAA.tif — not enough bands.\n",
      "⚠️ Skipping HLS.S30.T11SQS.2025088T181751.v2.0.SZA.tif — not enough bands.\n",
      "⚠️ Skipping HLS.S30.T11SQS.2025088T181751.v2.0.VAA.tif — not enough bands.\n",
      "⚠️ Skipping HLS.S30.T11SQS.2025088T181751.v2.0.VZA.tif — not enough bands.\n"
     ]
    },
    {
     "name": "stderr",
     "output_type": "stream",
     "text": [
      "Processing files:  93%|█████████▎| 687/738 [00:34<00:03, 15.20it/s]"
     ]
    },
    {
     "name": "stdout",
     "output_type": "stream",
     "text": [
      "⚠️ Skipping HLS.S30.T11SQT.2025088T181751.v2.0.B01.tif — not enough bands.\n",
      "⚠️ Skipping HLS.S30.T11SQT.2025088T181751.v2.0.B02.tif — not enough bands.\n",
      "⚠️ Skipping HLS.S30.T11SQT.2025088T181751.v2.0.B03.tif — not enough bands.\n",
      "⚠️ Skipping HLS.S30.T11SQT.2025088T181751.v2.0.B04.tif — not enough bands.\n",
      "⚠️ Skipping HLS.S30.T11SQT.2025088T181751.v2.0.B05.tif — not enough bands.\n"
     ]
    },
    {
     "name": "stderr",
     "output_type": "stream",
     "text": [
      "Processing files:  94%|█████████▍| 692/738 [00:34<00:03, 15.12it/s]"
     ]
    },
    {
     "name": "stdout",
     "output_type": "stream",
     "text": [
      "⚠️ Skipping HLS.S30.T11SQT.2025088T181751.v2.0.B06.tif — not enough bands.\n",
      "⚠️ Skipping HLS.S30.T11SQT.2025088T181751.v2.0.B07.tif — not enough bands.\n",
      "⚠️ Skipping HLS.S30.T11SQT.2025088T181751.v2.0.B08.tif — not enough bands.\n"
     ]
    },
    {
     "name": "stderr",
     "output_type": "stream",
     "text": [
      "Processing files:  94%|█████████▍| 696/738 [00:35<00:02, 15.28it/s]"
     ]
    },
    {
     "name": "stdout",
     "output_type": "stream",
     "text": [
      "⚠️ Skipping HLS.S30.T11SQT.2025088T181751.v2.0.B09.tif — not enough bands.\n",
      "⚠️ Skipping HLS.S30.T11SQT.2025088T181751.v2.0.B10.tif — not enough bands.\n",
      "⚠️ Skipping HLS.S30.T11SQT.2025088T181751.v2.0.B11.tif — not enough bands.\n",
      "⚠️ Skipping HLS.S30.T11SQT.2025088T181751.v2.0.B12.tif — not enough bands.\n"
     ]
    },
    {
     "name": "stderr",
     "output_type": "stream",
     "text": [
      "Processing files:  95%|█████████▍| 700/738 [00:35<00:02, 15.92it/s]"
     ]
    },
    {
     "name": "stdout",
     "output_type": "stream",
     "text": [
      "⚠️ Skipping HLS.S30.T11SQT.2025088T181751.v2.0.B8A.tif — not enough bands.\n",
      "⚠️ Skipping HLS.S30.T11SQT.2025088T181751.v2.0.Fmask.tif — not enough bands.\n",
      "⚠️ Skipping HLS.S30.T11SQT.2025088T181751.v2.0.SAA.tif — not enough bands.\n",
      "⚠️ Skipping HLS.S30.T11SQT.2025088T181751.v2.0.SZA.tif — not enough bands.\n"
     ]
    },
    {
     "name": "stderr",
     "output_type": "stream",
     "text": [
      "Processing files:  95%|█████████▌| 704/738 [00:35<00:02, 15.40it/s]"
     ]
    },
    {
     "name": "stdout",
     "output_type": "stream",
     "text": [
      "⚠️ Skipping HLS.S30.T11SQT.2025088T181751.v2.0.VAA.tif — not enough bands.\n",
      "⚠️ Skipping HLS.S30.T11SQT.2025088T181751.v2.0.VZA.tif — not enough bands.\n",
      "⚠️ Skipping HLS.S30.T11TKE.2025085T184031.v2.0.B01.tif — not enough bands.\n",
      "⚠️ Skipping HLS.S30.T11TKE.2025085T184031.v2.0.B02.tif — not enough bands.\n"
     ]
    },
    {
     "name": "stderr",
     "output_type": "stream",
     "text": [
      "Processing files:  96%|█████████▌| 706/738 [00:35<00:02, 13.45it/s]"
     ]
    },
    {
     "name": "stdout",
     "output_type": "stream",
     "text": [
      "⚠️ Skipping HLS.S30.T11TKE.2025085T184031.v2.0.B03.tif — not enough bands.\n",
      "⚠️ Skipping HLS.S30.T11TKE.2025085T184031.v2.0.B04.tif — not enough bands.\n",
      "⚠️ Skipping HLS.S30.T11TKE.2025085T184031.v2.0.B05.tif — not enough bands.\n"
     ]
    },
    {
     "name": "stderr",
     "output_type": "stream",
     "text": [
      "Processing files:  96%|█████████▌| 710/738 [00:36<00:02, 13.85it/s]"
     ]
    },
    {
     "name": "stdout",
     "output_type": "stream",
     "text": [
      "⚠️ Skipping HLS.S30.T11TKE.2025085T184031.v2.0.B06.tif — not enough bands.\n",
      "⚠️ Skipping HLS.S30.T11TKE.2025085T184031.v2.0.B07.tif — not enough bands.\n",
      "⚠️ Skipping HLS.S30.T11TKE.2025085T184031.v2.0.B08.tif — not enough bands.\n",
      "⚠️ Skipping HLS.S30.T11TKE.2025085T184031.v2.0.B09.tif — not enough bands.\n"
     ]
    },
    {
     "name": "stderr",
     "output_type": "stream",
     "text": [
      "Processing files:  97%|█████████▋| 714/738 [00:36<00:01, 15.96it/s]"
     ]
    },
    {
     "name": "stdout",
     "output_type": "stream",
     "text": [
      "⚠️ Skipping HLS.S30.T11TKE.2025085T184031.v2.0.B10.tif — not enough bands.\n",
      "⚠️ Skipping HLS.S30.T11TKE.2025085T184031.v2.0.B11.tif — not enough bands.\n",
      "⚠️ Skipping HLS.S30.T11TKE.2025085T184031.v2.0.B12.tif — not enough bands.\n",
      "⚠️ Skipping HLS.S30.T11TKE.2025085T184031.v2.0.B8A.tif — not enough bands.\n",
      "⚠️ Skipping HLS.S30.T11TKE.2025085T184031.v2.0.Fmask.tif — not enough bands.\n"
     ]
    },
    {
     "name": "stderr",
     "output_type": "stream",
     "text": [
      "Processing files:  98%|█████████▊| 720/738 [00:36<00:00, 18.85it/s]"
     ]
    },
    {
     "name": "stdout",
     "output_type": "stream",
     "text": [
      "⚠️ Skipping HLS.S30.T11TKE.2025085T184031.v2.0.SAA.tif — not enough bands.\n",
      "⚠️ Skipping HLS.S30.T11TKE.2025085T184031.v2.0.SZA.tif — not enough bands.\n",
      "⚠️ Skipping HLS.S30.T11TKE.2025085T184031.v2.0.VAA.tif — not enough bands.\n",
      "⚠️ Skipping HLS.S30.T11TKE.2025085T184031.v2.0.VZA.tif — not enough bands.\n",
      "⚠️ Skipping HLS.S30.T11TKF.2025085T184031.v2.0.B01.tif — not enough bands.\n"
     ]
    },
    {
     "name": "stderr",
     "output_type": "stream",
     "text": [
      "Processing files:  98%|█████████▊| 725/738 [00:36<00:00, 19.12it/s]"
     ]
    },
    {
     "name": "stdout",
     "output_type": "stream",
     "text": [
      "⚠️ Skipping HLS.S30.T11TKF.2025085T184031.v2.0.B02.tif — not enough bands.\n",
      "⚠️ Skipping HLS.S30.T11TKF.2025085T184031.v2.0.B03.tif — not enough bands.\n",
      "⚠️ Skipping HLS.S30.T11TKF.2025085T184031.v2.0.B04.tif — not enough bands.\n",
      "⚠️ Skipping HLS.S30.T11TKF.2025085T184031.v2.0.B05.tif — not enough bands.\n",
      "⚠️ Skipping HLS.S30.T11TKF.2025085T184031.v2.0.B06.tif — not enough bands.\n"
     ]
    },
    {
     "name": "stderr",
     "output_type": "stream",
     "text": [
      "Processing files:  99%|█████████▉| 729/738 [00:37<00:00, 17.01it/s]"
     ]
    },
    {
     "name": "stdout",
     "output_type": "stream",
     "text": [
      "⚠️ Skipping HLS.S30.T11TKF.2025085T184031.v2.0.B07.tif — not enough bands.\n",
      "⚠️ Skipping HLS.S30.T11TKF.2025085T184031.v2.0.B08.tif — not enough bands.\n",
      "⚠️ Skipping HLS.S30.T11TKF.2025085T184031.v2.0.B09.tif — not enough bands.\n",
      "⚠️ Skipping HLS.S30.T11TKF.2025085T184031.v2.0.B10.tif — not enough bands.\n"
     ]
    },
    {
     "name": "stderr",
     "output_type": "stream",
     "text": [
      "Processing files:  99%|█████████▉| 731/738 [00:37<00:00, 17.56it/s]"
     ]
    },
    {
     "name": "stdout",
     "output_type": "stream",
     "text": [
      "⚠️ Skipping HLS.S30.T11TKF.2025085T184031.v2.0.B11.tif — not enough bands.\n",
      "⚠️ Skipping HLS.S30.T11TKF.2025085T184031.v2.0.B12.tif — not enough bands.\n",
      "⚠️ Skipping HLS.S30.T11TKF.2025085T184031.v2.0.B8A.tif — not enough bands.\n"
     ]
    },
    {
     "name": "stderr",
     "output_type": "stream",
     "text": [
      "Processing files: 100%|█████████▉| 737/738 [00:37<00:00, 14.96it/s]"
     ]
    },
    {
     "name": "stdout",
     "output_type": "stream",
     "text": [
      "⚠️ Skipping HLS.S30.T11TKF.2025085T184031.v2.0.Fmask.tif — not enough bands.\n",
      "⚠️ Skipping HLS.S30.T11TKF.2025085T184031.v2.0.SAA.tif — not enough bands.\n",
      "⚠️ Skipping HLS.S30.T11TKF.2025085T184031.v2.0.SZA.tif — not enough bands.\n",
      "⚠️ Skipping HLS.S30.T11TKF.2025085T184031.v2.0.VAA.tif — not enough bands.\n"
     ]
    },
    {
     "name": "stderr",
     "output_type": "stream",
     "text": [
      "Processing files: 100%|██████████| 738/738 [00:37<00:00, 19.50it/s]"
     ]
    },
    {
     "name": "stdout",
     "output_type": "stream",
     "text": [
      "⚠️ Skipping HLS.S30.T11TKF.2025085T184031.v2.0.VZA.tif — not enough bands.\n",
      "\n",
      "✅ Processing complete! Log saved to: C:\\Users\\user\\Documents\\GitHub\\Nasa_Space_Apps_challenge\\output\\processing_log.csv\n",
      "✅ NDVI .tif and .npy saved to: C:\\Users\\user\\Documents\\GitHub\\Nasa_Space_Apps_challenge\\output\n"
     ]
    },
    {
     "name": "stderr",
     "output_type": "stream",
     "text": [
      "\n"
     ]
    }
   ],
   "source": [
    "import os\n",
    "import rasterio\n",
    "import numpy as np\n",
    "import pandas as pd\n",
    "from tqdm import tqdm\n",
    "import matplotlib.pyplot as plt\n",
    "\n",
    "# ======= CONFIG =======\n",
    "INPUT_FOLDER = r\"C:\\Users\\user\\Documents\\GitHub\\Nasa_Space_Apps_challenge\\data\\california_tif\"\n",
    "OUTPUT_FOLDER = r\"C:\\Users\\user\\Documents\\GitHub\\Nasa_Space_Apps_challenge\\output\"\n",
    "CSV_LOG = os.path.join(OUTPUT_FOLDER, \"processing_log.csv\")\n",
    "\n",
    "os.makedirs(OUTPUT_FOLDER, exist_ok=True)\n",
    "\n",
    "# ======= HELPER =======\n",
    "def compute_ndvi(red_band, nir_band):\n",
    "    \"\"\"Compute NDVI = (NIR - RED) / (NIR + RED)\"\"\"\n",
    "    np.seterr(divide='ignore', invalid='ignore')\n",
    "    ndvi = (nir_band - red_band) / (nir_band + red_band)\n",
    "    ndvi = np.clip(ndvi, -1, 1)\n",
    "    return ndvi\n",
    "\n",
    "# ======= MAIN =======\n",
    "records = []\n",
    "\n",
    "tif_files = [f for f in os.listdir(INPUT_FOLDER) if f.lower().endswith(\".tif\")]\n",
    "\n",
    "print(f\"Found {len(tif_files)} .tif files\")\n",
    "\n",
    "for tif_file in tqdm(tif_files, desc=\"Processing files\"):\n",
    "    file_path = os.path.join(INPUT_FOLDER, tif_file)\n",
    "    \n",
    "    try:\n",
    "        with rasterio.open(file_path) as src:\n",
    "            meta = src.meta\n",
    "            bands = src.count\n",
    "\n",
    "            if bands < 2:\n",
    "                print(f\"⚠️ Skipping {tif_file} — not enough bands.\")\n",
    "                continue\n",
    "\n",
    "            # Assume band 1 = Red, band 2 = NIR\n",
    "            red = src.read(1).astype('float32')\n",
    "            nir = src.read(2).astype('float32')\n",
    "\n",
    "            ndvi = compute_ndvi(red, nir)\n",
    "\n",
    "            # Save NDVI as GeoTIFF\n",
    "            ndvi_path = os.path.join(OUTPUT_FOLDER, f\"NDVI_{tif_file}\")\n",
    "            meta.update(dtype=rasterio.float32, count=1)\n",
    "            with rasterio.open(ndvi_path, 'w', **meta) as dst:\n",
    "                dst.write(ndvi, 1)\n",
    "\n",
    "            # Save NDVI as NumPy array (.npy)\n",
    "            npy_path = os.path.join(OUTPUT_FOLDER, f\"{os.path.splitext(tif_file)[0]}_ndvi.npy\")\n",
    "            np.save(npy_path, ndvi)\n",
    "\n",
    "            # Record metadata\n",
    "            records.append({\n",
    "                \"filename\": tif_file,\n",
    "                \"width\": src.width,\n",
    "                \"height\": src.height,\n",
    "                \"bands\": bands,\n",
    "                \"crs\": str(src.crs),\n",
    "                \"transform\": str(src.transform),\n",
    "                \"ndvi_tif\": ndvi_path,\n",
    "                \"ndvi_npy\": npy_path\n",
    "            })\n",
    "    \n",
    "    except Exception as e:\n",
    "        print(f\"❌ Error processing {tif_file}: {e}\")\n",
    "\n",
    "# ======= SAVE LOG =======\n",
    "df = pd.DataFrame(records)\n",
    "df.to_csv(CSV_LOG, index=False)\n",
    "print(f\"\\n✅ Processing complete! Log saved to: {CSV_LOG}\")\n",
    "print(f\"✅ NDVI .tif and .npy saved to: {OUTPUT_FOLDER}\")\n"
   ]
  },
  {
   "cell_type": "code",
   "execution_count": 3,
   "id": "3429a24b",
   "metadata": {},
   "outputs": [
    {
     "name": "stdout",
     "output_type": "stream",
     "text": [
      "🛰 Found 41 unique tiles/dates\n"
     ]
    },
    {
     "name": "stderr",
     "output_type": "stream",
     "text": [
      "Processing NDVI: 100%|██████████| 41/41 [01:03<00:00,  1.55s/it]"
     ]
    },
    {
     "name": "stdout",
     "output_type": "stream",
     "text": [
      "\n",
      "✅ NDVI computation done for 41 tiles!\n",
      "📁 Output: C:\\Users\\user\\Documents\\GitHub\\Nasa_Space_Apps_challenge\\output\n",
      "🧾 Log: C:\\Users\\user\\Documents\\GitHub\\Nasa_Space_Apps_challenge\\output\\ndvi_processing_log.csv\n"
     ]
    },
    {
     "name": "stderr",
     "output_type": "stream",
     "text": [
      "\n"
     ]
    }
   ],
   "source": [
    "import os\n",
    "import re\n",
    "import numpy as np\n",
    "import rasterio\n",
    "from rasterio.merge import merge\n",
    "import pandas as pd\n",
    "from tqdm import tqdm\n",
    "\n",
    "# === CONFIG ===\n",
    "INPUT_FOLDER = r\"C:\\Users\\user\\Documents\\GitHub\\Nasa_Space_Apps_challenge\\data\\california_tif\"\n",
    "OUTPUT_FOLDER = r\"C:\\Users\\user\\Documents\\GitHub\\Nasa_Space_Apps_challenge\\output\"\n",
    "CSV_LOG = os.path.join(OUTPUT_FOLDER, \"ndvi_processing_log.csv\")\n",
    "os.makedirs(OUTPUT_FOLDER, exist_ok=True)\n",
    "\n",
    "# === HELPER ===\n",
    "def compute_ndvi(red, nir):\n",
    "    np.seterr(divide='ignore', invalid='ignore')\n",
    "    ndvi = (nir - red) / (nir + red)\n",
    "    ndvi = np.clip(ndvi, -1, 1)\n",
    "    return ndvi\n",
    "\n",
    "# === BUILD BAND MAPPING ===\n",
    "# Example filename: HLS.S30.T10SDH.2025088T185021.v2.0.B04.tif\n",
    "band_pattern = re.compile(r\"(HLS\\..+?\\.\\d{7}T\\d{6}\\..+?)\\.B(\\d+[A-Z]?)\\.tif\")\n",
    "\n",
    "# Group by tile + date\n",
    "band_dict = {}\n",
    "\n",
    "for f in os.listdir(INPUT_FOLDER):\n",
    "    if f.lower().endswith(\".tif\"):\n",
    "        match = band_pattern.match(f)\n",
    "        if match:\n",
    "            base_id, band_id = match.groups()\n",
    "            band_dict.setdefault(base_id, {})[band_id] = os.path.join(INPUT_FOLDER, f)\n",
    "\n",
    "print(f\"🛰 Found {len(band_dict)} unique tiles/dates\")\n",
    "\n",
    "# === PROCESS EACH TILE/DATE ===\n",
    "records = []\n",
    "\n",
    "for key, bands in tqdm(band_dict.items(), desc=\"Processing NDVI\"):\n",
    "    if \"04\" not in bands or \"08\" not in bands:\n",
    "        continue  # Need both red and nir\n",
    "\n",
    "    red_path = bands[\"04\"]\n",
    "    nir_path = bands[\"08\"]\n",
    "\n",
    "    try:\n",
    "        with rasterio.open(red_path) as red_src, rasterio.open(nir_path) as nir_src:\n",
    "            red = red_src.read(1).astype(\"float32\")\n",
    "            nir = nir_src.read(1).astype(\"float32\")\n",
    "\n",
    "            if red.shape != nir.shape:\n",
    "                print(f\"⚠️ Skipping {key} — shape mismatch.\")\n",
    "                continue\n",
    "\n",
    "            ndvi = compute_ndvi(red, nir)\n",
    "\n",
    "            # Save NDVI GeoTIFF\n",
    "            out_tif = os.path.join(OUTPUT_FOLDER, f\"NDVI_{key}.tif\")\n",
    "            meta = red_src.meta.copy()\n",
    "            meta.update(dtype=rasterio.float32, count=1)\n",
    "            with rasterio.open(out_tif, \"w\", **meta) as dst:\n",
    "                dst.write(ndvi, 1)\n",
    "\n",
    "            # Save .npy\n",
    "            out_npy = os.path.join(OUTPUT_FOLDER, f\"{key}_ndvi.npy\")\n",
    "            np.save(out_npy, ndvi)\n",
    "\n",
    "            records.append({\n",
    "                \"key\": key,\n",
    "                \"red_band\": red_path,\n",
    "                \"nir_band\": nir_path,\n",
    "                \"ndvi_tif\": out_tif,\n",
    "                \"ndvi_npy\": out_npy,\n",
    "                \"width\": red_src.width,\n",
    "                \"height\": red_src.height,\n",
    "                \"crs\": str(red_src.crs)\n",
    "            })\n",
    "\n",
    "    except Exception as e:\n",
    "        print(f\"❌ Error processing {key}: {e}\")\n",
    "\n",
    "# === SAVE LOG ===\n",
    "df = pd.DataFrame(records)\n",
    "df.to_csv(CSV_LOG, index=False)\n",
    "\n",
    "print(f\"\\n✅ NDVI computation done for {len(records)} tiles!\")\n",
    "print(f\"📁 Output: {OUTPUT_FOLDER}\")\n",
    "print(f\"🧾 Log: {CSV_LOG}\")\n"
   ]
  },
  {
   "cell_type": "code",
   "execution_count": 6,
   "id": "0c36a78c",
   "metadata": {},
   "outputs": [
    {
     "data": {
      "image/png": "[encoded data removed]",
      "text/plain": [
       "<Figure size 640x480 with 2 Axes>"
      ]
     },
     "metadata": {},
     "output_type": "display_data"
    }
   ],
   "source": [
    "import matplotlib.pyplot as plt\n",
    "import numpy as np\n",
    "\n",
    "ndvi = np.load(r\"C:\\Users\\user\\Documents\\GitHub\\Nasa_Space_Apps_challenge\\output\\HLS.S30.T10SDH.2025088T185021.v2.0_ndvi.npy\")\n",
    "\n",
    "plt.imshow(ndvi, cmap='RdYlGn')\n",
    "plt.colorbar(label=\"NDVI\")\n",
    "plt.title(\"NDVI Visualization\")\n",
    "plt.show()\n"
   ]
  },
  {
   "cell_type": "code",
   "execution_count": 10,
   "id": "8fcdfc6d",
   "metadata": {},
   "outputs": [],
   "source": [
    "log = pd.read_csv(r\"C:\\Users\\user\\Documents\\GitHub\\Nasa_Space_Apps_challenge\\output\\ndvi_processing_log.csv\")"
   ]
  },
  {
   "cell_type": "code",
   "execution_count": 12,
   "id": "6cf1fe7f",
   "metadata": {},
   "outputs": [
    {
     "name": "stdout",
     "output_type": "stream",
     "text": [
      "Index(['key', 'red_band', 'nir_band', 'ndvi_tif', 'ndvi_npy', 'width',\n",
      "       'height', 'crs'],\n",
      "      dtype='object')\n"
     ]
    }
   ],
   "source": [
    "import pandas as pd\n",
    "\n",
    "log = pd.read_csv(\"C:/Users/user/Documents/GitHub/Nasa_Space_Apps_challenge/output/ndvi_processing_log.csv\")\n",
    "print(log.columns)\n"
   ]
  },
  {
   "cell_type": "code",
   "execution_count": 17,
   "id": "a34b7579",
   "metadata": {},
   "outputs": [
    {
     "data": {
      "image/png": "[encoded data removed]",
      "text/plain": [
       "<Figure size 1000x500 with 1 Axes>"
      ]
     },
     "metadata": {},
     "output_type": "display_data"
    }
   ],
   "source": [
    "import pandas as pd\n",
    "import numpy as np\n",
    "import matplotlib.pyplot as plt\n",
    "from datetime import datetime, timedelta\n",
    "\n",
    "log = pd.read_csv(\"C:/Users/user/Documents/GitHub/Nasa_Space_Apps_challenge/output/ndvi_processing_log.csv\")\n",
    "\n",
    "# Extract the date from the 'key' column\n",
    "def extract_date(key):\n",
    "    # Example key: HLS.S30.T10SDH.2025088T185021.v2.0\n",
    "    julian_str = key.split('.')[3]  # '2025088T185021'\n",
    "    year = int(julian_str[:4])\n",
    "    julian_day = int(julian_str[4:7])\n",
    "    date = datetime(year, 1, 1) + timedelta(days=julian_day - 1)\n",
    "    return date\n",
    "\n",
    "log['date'] = log['key'].apply(extract_date)\n",
    "\n",
    "# Compute mean NDVI for each tile by loading the .npy\n",
    "def load_mean_ndvi(path):\n",
    "    try:\n",
    "        arr = np.load(path)\n",
    "        return np.nanmean(arr)\n",
    "    except Exception as e:\n",
    "        print(f\"⚠️ Failed to load {path}: {e}\")\n",
    "        return np.nan\n",
    "\n",
    "log['mean_ndvi'] = log['ndvi_npy'].apply(load_mean_ndvi)\n",
    "\n",
    "# Now group by date\n",
    "daily_ndvi = log.groupby('date')['mean_ndvi'].mean()\n",
    "\n",
    "# Plot\n",
    "plt.figure(figsize=(10,5))\n",
    "plt.plot(daily_ndvi.index, daily_ndvi.values, marker='o')\n",
    "plt.title(\"NDVI Trend Over Time\")\n",
    "plt.xlabel(\"Date\")\n",
    "plt.ylabel(\"Mean NDVI\")\n",
    "plt.grid(True)\n",
    "plt.show()\n"
   ]
  },
  {
   "cell_type": "code",
   "execution_count": 34,
   "id": "ff208202",
   "metadata": {},
   "outputs": [
    {
     "name": "stdout",
     "output_type": "stream",
     "text": [
      "        date  mean_ndvi\n",
      "2 2025-03-26        NaN\n",
      "1 2025-03-28        NaN\n",
      "0 2025-03-29        NaN\n"
     ]
    }
   ],
   "source": [
    "import re\n",
    "import os\n",
    "import numpy as np\n",
    "import pandas as pd\n",
    "from collections import defaultdict\n",
    "\n",
    "ndvi_folder = r\"C:\\Users\\user\\Documents\\GitHub\\Nasa_Space_Apps_challenge\\output\"\n",
    "\n",
    "# List all NDVI .npy files\n",
    "ndvi_files = [f for f in os.listdir(ndvi_folder) if f.endswith(\"_ndvi.npy\")]\n",
    "\n",
    "# Group files by date\n",
    "ndvi_by_date = defaultdict(list)\n",
    "for f in ndvi_files:\n",
    "    m = re.search(r'\\.(\\d{7})T', f)  # extract '2025088' from filename\n",
    "    if m:\n",
    "        date_str = m.group(1)\n",
    "        ndvi_by_date[date_str].append(os.path.join(ndvi_folder, f))\n",
    "\n",
    "# Compute daily mean NDVI\n",
    "daily_means = []\n",
    "for date_str, files in ndvi_by_date.items():\n",
    "    arrays = [np.load(f) for f in files]\n",
    "    daily_mean = np.mean(arrays)\n",
    "    \n",
    "    # Convert DOY to datetime\n",
    "    date_dt = pd.to_datetime(date_str, format='%Y%j')\n",
    "    daily_means.append({'date': date_dt, 'mean_ndvi': daily_mean})\n",
    "\n",
    "# Create DataFrame\n",
    "daily_ndvi_df = pd.DataFrame(daily_means)\n",
    "daily_ndvi_df.sort_values('date', inplace=True)\n",
    "daily_ndvi_df.to_csv(os.path.join(ndvi_folder, \"daily_mean_ndvi.csv\"), index=False)\n",
    "\n",
    "print(daily_ndvi_df.head())\n"
   ]
  },
  {
   "cell_type": "code",
   "execution_count": 35,
   "id": "84e261cc",
   "metadata": {},
   "outputs": [
    {
     "name": "stdout",
     "output_type": "stream",
     "text": [
      "        date  mean_ndvi\n",
      "2 2025-03-26   0.233357\n",
      "1 2025-03-28   0.073179\n",
      "0 2025-03-29   0.252506\n"
     ]
    }
   ],
   "source": [
    "import numpy as np\n",
    "\n",
    "daily_means = []\n",
    "for date_str, files in ndvi_by_date.items():\n",
    "    arrays = [np.load(f) for f in files]\n",
    "    \n",
    "    # Stack arrays into 3D array\n",
    "    stack = np.stack(arrays, axis=0)\n",
    "    \n",
    "    # Mask invalid values (if NDVI is out of -1 to 1 range)\n",
    "    stack = np.where((stack >= -1) & (stack <= 1), stack, np.nan)\n",
    "    \n",
    "    daily_mean = np.nanmean(stack)  # ignore NaNs\n",
    "    date_dt = pd.to_datetime(date_str, format='%Y%j')\n",
    "    \n",
    "    daily_means.append({'date': date_dt, 'mean_ndvi': daily_mean})\n",
    "\n",
    "daily_ndvi_df = pd.DataFrame(daily_means)\n",
    "daily_ndvi_df.sort_values('date', inplace=True)\n",
    "daily_ndvi_df.to_csv(os.path.join(ndvi_folder, \"daily_mean_ndvi.csv\"), index=False)\n",
    "\n",
    "print(daily_ndvi_df)\n"
   ]
  },
  {
   "cell_type": "code",
   "execution_count": 36,
   "id": "2a1cbec4",
   "metadata": {},
   "outputs": [
    {
     "data": {
      "image/png": "[encoded data removed]",
      "text/plain": [
       "<Figure size 1000x500 with 1 Axes>"
      ]
     },
     "metadata": {},
     "output_type": "display_data"
    }
   ],
   "source": [
    "import matplotlib.pyplot as plt\n",
    "\n",
    "daily_ndvi_df.plot(x='date', y='mean_ndvi', marker='o', figsize=(10,5))\n",
    "plt.title(\"Daily Mean NDVI Over Time\")\n",
    "plt.xlabel(\"Date\")\n",
    "plt.ylabel(\"Mean NDVI\")\n",
    "plt.grid(True)\n",
    "plt.show()\n"
   ]
  },
  {
   "cell_type": "code",
   "execution_count": 38,
   "id": "e4f7b09f",
   "metadata": {},
   "outputs": [
    {
     "name": "stderr",
     "output_type": "stream",
     "text": [
      "Processing NDVI mosaics: 100%|██████████| 3/3 [00:45<00:00, 15.06s/it]\n"
     ]
    },
    {
     "data": {
      "image/png": "[encoded data removed]",
      "text/plain": [
       "<Figure size 1200x600 with 1 Axes>"
      ]
     },
     "metadata": {},
     "output_type": "display_data"
    }
   ],
   "source": [
    "import os\n",
    "import numpy as np\n",
    "import rasterio\n",
    "from rasterio.merge import merge\n",
    "from rasterio.transform import from_origin\n",
    "import pandas as pd\n",
    "import matplotlib.pyplot as plt\n",
    "from tqdm import tqdm\n",
    "\n",
    "# Paths\n",
    "ndvi_folder = \"C:/Users/user/Documents/GitHub/Nasa_Space_Apps_challenge/output\"\n",
    "mosaic_folder = os.path.join(ndvi_folder, \"daily_mosaics\")\n",
    "os.makedirs(mosaic_folder, exist_ok=True)\n",
    "\n",
    "# Dummy transform & CRS (replace with real values if known)\n",
    "pixel_size = 30  # meters per pixel\n",
    "x_min, y_max = 0, 0  # top-left corner (adjust if needed)\n",
    "transform = from_origin(x_min, y_max, pixel_size, pixel_size)\n",
    "crs = \"EPSG:4326\"  # or your dataset CRS\n",
    "\n",
    "# Helper to extract date\n",
    "def extract_date(filename):\n",
    "    parts = filename.split(\".\")\n",
    "    date_str = parts[3][:7]  # '2025088'\n",
    "    return pd.to_datetime(date_str, format=\"%Y%j\")\n",
    "\n",
    "# Group NDVI files by date\n",
    "ndvi_files = [f for f in os.listdir(ndvi_folder) if f.endswith(\"_ndvi.npy\")]\n",
    "ndvi_by_date = {}\n",
    "for f in ndvi_files:\n",
    "    date = extract_date(f)\n",
    "    if date:\n",
    "        ndvi_by_date.setdefault(date, []).append(os.path.join(ndvi_folder, f))\n",
    "\n",
    "# Process each date\n",
    "daily_means = []\n",
    "\n",
    "for date, files in tqdm(ndvi_by_date.items(), desc=\"Processing NDVI mosaics\"):\n",
    "    raster_list = []\n",
    "    for f in files:\n",
    "        arr = np.load(f).astype(np.float32)\n",
    "        \n",
    "        # Create in-memory raster\n",
    "        meta = {\n",
    "            'driver': 'GTiff',\n",
    "            'height': arr.shape[0],\n",
    "            'width': arr.shape[1],\n",
    "            'count': 1,\n",
    "            'dtype': 'float32',\n",
    "            'crs': crs,\n",
    "            'transform': transform\n",
    "        }\n",
    "        memfile = rasterio.io.MemoryFile()\n",
    "        dataset = memfile.open(**meta)\n",
    "        dataset.write(arr, 1)\n",
    "        raster_list.append(dataset)\n",
    "    \n",
    "    if raster_list:\n",
    "        # Merge tiles\n",
    "        mosaic, out_trans = merge(raster_list)\n",
    "        mosaic = mosaic[0]\n",
    "        \n",
    "        # Save mosaic GeoTIFF\n",
    "        out_meta = meta.copy()\n",
    "        out_meta.update({\"height\": mosaic.shape[0],\n",
    "                         \"width\": mosaic.shape[1],\n",
    "                         \"transform\": out_trans})\n",
    "        out_tif = os.path.join(mosaic_folder, f\"{date.strftime('%Y%m%d')}_ndvi_mosaic.tif\")\n",
    "        with rasterio.open(out_tif, \"w\", **out_meta) as dest:\n",
    "            dest.write(mosaic, 1)\n",
    "        \n",
    "        # Compute mean NDVI\n",
    "        mean_ndvi = np.nanmean(mosaic)\n",
    "        daily_means.append({\"date\": date, \"mean_ndvi\": mean_ndvi})\n",
    "\n",
    "# Save daily mean NDVI CSV\n",
    "daily_ndvi_df = pd.DataFrame(daily_means).sort_values(\"date\")\n",
    "daily_ndvi_df.to_csv(os.path.join(mosaic_folder, \"daily_mean_ndvi.csv\"), index=False)\n",
    "\n",
    "# Plot NDVI trend\n",
    "plt.figure(figsize=(12,6))\n",
    "plt.plot(daily_ndvi_df['date'], daily_ndvi_df['mean_ndvi'], marker='o')\n",
    "plt.title(\"Daily Mean NDVI Over Time\")\n",
    "plt.xlabel(\"Date\")\n",
    "plt.ylabel(\"Mean NDVI\")\n",
    "plt.grid(True)\n",
    "plt.show()\n"
   ]
  }
 ],
 "metadata": {
  "kernelspec": {
   "display_name": "rasterenv",
   "language": "python",
   "name": "python3"
  },
  "language_info": {
   "codemirror_mode": {
    "name": "ipython",
    "version": 3
   },
   "file_extension": ".py",
   "mimetype": "text/x-python",
   "name": "python",
   "nbconvert_exporter": "python",
   "pygments_lexer": "ipython3",
   "version": "3.10.18"
  }
 },
 "nbformat": 4,
 "nbformat_minor": 5
}
